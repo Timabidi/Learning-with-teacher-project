{
 "cells": [
  {
   "cell_type": "markdown",
   "id": "ba70da7c",
   "metadata": {},
   "source": [
    "<h1>Проект Обучение с учителем<span class=\"tocSkip\"></span></h1>"
   ]
  },
  {
   "cell_type": "markdown",
   "id": "ec701107",
   "metadata": {},
   "source": [
    "<h1>Содержание<span class=\"tocSkip\"></span></h1>\n",
    "<div class=\"toc\"><ul class=\"toc-item\"><li><span><a href=\"#Подготовка-данных\" data-toc-modified-id=\"Подготовка-данных-1\"><span class=\"toc-item-num\">1&nbsp;&nbsp;</span>Подготовка данных</a></span></li><li><span><a href=\"#Исследование-задачи\" data-toc-modified-id=\"Исследование-задачи-2\"><span class=\"toc-item-num\">2&nbsp;&nbsp;</span>Исследование задачи</a></span></li><li><span><a href=\"#Борьба-с-дисбалансом\" data-toc-modified-id=\"Борьба-с-дисбалансом-3\"><span class=\"toc-item-num\">3&nbsp;&nbsp;</span>Борьба с дисбалансом</a></span></li><li><span><a href=\"#Тестирование-модели\" data-toc-modified-id=\"Тестирование-модели-4\"><span class=\"toc-item-num\">4&nbsp;&nbsp;</span>Тестирование модели</a></span></li><li><span><a href=\"#Чек-лист-готовности-проекта\" data-toc-modified-id=\"Чек-лист-готовности-проекта-5\"><span class=\"toc-item-num\">5&nbsp;&nbsp;</span>Чек-лист готовности проекта</a></span></li></ul></div>"
   ]
  },
  {
   "cell_type": "markdown",
   "id": "26df36c4",
   "metadata": {},
   "source": [
    "<h1>Отток клиентов<span class=\"tocSkip\"></span></h1>"
   ]
  },
  {
   "cell_type": "markdown",
   "id": "9bf6077d",
   "metadata": {},
   "source": [
    "Из «Бета-Банка» стали уходить клиенты. Каждый месяц. Немного, но заметно. Банковские маркетологи посчитали: сохранять текущих клиентов дешевле, чем привлекать новых.\n",
    "\n",
    "Нужно спрогнозировать, уйдёт клиент из банка в ближайшее время или нет. Вам предоставлены исторические данные о поведении клиентов и расторжении договоров с банком. \n",
    "\n",
    "Постройте модель с предельно большим значением *F1*-меры. Чтобы сдать проект успешно, нужно довести метрику до 0.59. Проверьте *F1*-меру на тестовой выборке самостоятельно.\n",
    "\n",
    "Дополнительно измеряйте *AUC-ROC*, сравнивайте её значение с *F1*-мерой.\n",
    "\n",
    "Источник данных: [https://www.kaggle.com/barelydedicated/bank-customer-churn-modeling](https://www.kaggle.com/barelydedicated/bank-customer-churn-modeling)"
   ]
  },
  {
   "cell_type": "markdown",
   "id": "e3bea6cd",
   "metadata": {},
   "source": [
    "<h1>Описание данных<span class=\"tocSkip\"></span></h1>\n",
    "\n",
    "Признаки\n",
    "- RowNumber — индекс строки в данных\n",
    "- CustomerId — уникальный идентификатор клиента\n",
    "- Surname — фамилия\n",
    "- CreditScore — кредитный рейтинг\n",
    "- Geography — страна проживания\n",
    "- Gender — пол\n",
    "- Age — возраст\n",
    "- Tenure — сколько лет человек является клиентом банка\n",
    "- Balance — баланс на счёте\n",
    "- NumOfProducts — количество продуктов банка, используемых клиентом\n",
    "- HasCrCard — наличие кредитной карты\n",
    "- IsActiveMember — активность клиента\n",
    "- EstimatedSalary — предполагаемая зарплата\n",
    "\n",
    "Целевой признак\n",
    "- Exited — факт ухода клиента"
   ]
  },
  {
   "cell_type": "markdown",
   "id": "7ee4733e",
   "metadata": {},
   "source": [
    "## Подготовка данных"
   ]
  },
  {
   "cell_type": "code",
   "execution_count": 1,
   "id": "aefd3640",
   "metadata": {},
   "outputs": [],
   "source": [
    "# Загружаем трубуемые библиотеки для нашей работы\n",
    "import pandas as pd\n",
    "import numpy as np\n",
    "import matplotlib.pyplot as plt\n",
    "from sklearn.linear_model import LogisticRegression\n",
    "from sklearn.ensemble import RandomForestClassifier\n",
    "from sklearn.tree import DecisionTreeClassifier\n",
    "from sklearn.model_selection import train_test_split\n",
    "from tqdm import tqdm\n",
    "from sklearn.metrics import confusion_matrix\n",
    "from sklearn.metrics import recall_score\n",
    "from sklearn.metrics import precision_score\n",
    "from sklearn.metrics import f1_score\n",
    "from sklearn.metrics import roc_auc_score\n",
    "from sklearn.metrics import auc\n",
    "from sklearn.metrics import roc_curve\n",
    "from sklearn.metrics import accuracy_score\n",
    "from sklearn.utils import shuffle\n",
    "from sklearn.preprocessing import StandardScaler\n",
    "from sklearn.model_selection import GridSearchCV"
   ]
  },
  {
   "cell_type": "code",
   "execution_count": 2,
   "id": "0ffa3f50",
   "metadata": {},
   "outputs": [
    {
     "data": {
      "text/html": [
       "<div>\n",
       "<style scoped>\n",
       "    .dataframe tbody tr th:only-of-type {\n",
       "        vertical-align: middle;\n",
       "    }\n",
       "\n",
       "    .dataframe tbody tr th {\n",
       "        vertical-align: top;\n",
       "    }\n",
       "\n",
       "    .dataframe thead th {\n",
       "        text-align: right;\n",
       "    }\n",
       "</style>\n",
       "<table border=\"1\" class=\"dataframe\">\n",
       "  <thead>\n",
       "    <tr style=\"text-align: right;\">\n",
       "      <th></th>\n",
       "      <th>RowNumber</th>\n",
       "      <th>CustomerId</th>\n",
       "      <th>Surname</th>\n",
       "      <th>CreditScore</th>\n",
       "      <th>Geography</th>\n",
       "      <th>Gender</th>\n",
       "      <th>Age</th>\n",
       "      <th>Tenure</th>\n",
       "      <th>Balance</th>\n",
       "      <th>NumOfProducts</th>\n",
       "      <th>HasCrCard</th>\n",
       "      <th>IsActiveMember</th>\n",
       "      <th>EstimatedSalary</th>\n",
       "      <th>Exited</th>\n",
       "    </tr>\n",
       "  </thead>\n",
       "  <tbody>\n",
       "    <tr>\n",
       "      <th>0</th>\n",
       "      <td>1</td>\n",
       "      <td>15634602</td>\n",
       "      <td>Hargrave</td>\n",
       "      <td>619</td>\n",
       "      <td>France</td>\n",
       "      <td>Female</td>\n",
       "      <td>42</td>\n",
       "      <td>2.0</td>\n",
       "      <td>0.00</td>\n",
       "      <td>1</td>\n",
       "      <td>1</td>\n",
       "      <td>1</td>\n",
       "      <td>101348.88</td>\n",
       "      <td>1</td>\n",
       "    </tr>\n",
       "    <tr>\n",
       "      <th>1</th>\n",
       "      <td>2</td>\n",
       "      <td>15647311</td>\n",
       "      <td>Hill</td>\n",
       "      <td>608</td>\n",
       "      <td>Spain</td>\n",
       "      <td>Female</td>\n",
       "      <td>41</td>\n",
       "      <td>1.0</td>\n",
       "      <td>83807.86</td>\n",
       "      <td>1</td>\n",
       "      <td>0</td>\n",
       "      <td>1</td>\n",
       "      <td>112542.58</td>\n",
       "      <td>0</td>\n",
       "    </tr>\n",
       "    <tr>\n",
       "      <th>2</th>\n",
       "      <td>3</td>\n",
       "      <td>15619304</td>\n",
       "      <td>Onio</td>\n",
       "      <td>502</td>\n",
       "      <td>France</td>\n",
       "      <td>Female</td>\n",
       "      <td>42</td>\n",
       "      <td>8.0</td>\n",
       "      <td>159660.80</td>\n",
       "      <td>3</td>\n",
       "      <td>1</td>\n",
       "      <td>0</td>\n",
       "      <td>113931.57</td>\n",
       "      <td>1</td>\n",
       "    </tr>\n",
       "    <tr>\n",
       "      <th>3</th>\n",
       "      <td>4</td>\n",
       "      <td>15701354</td>\n",
       "      <td>Boni</td>\n",
       "      <td>699</td>\n",
       "      <td>France</td>\n",
       "      <td>Female</td>\n",
       "      <td>39</td>\n",
       "      <td>1.0</td>\n",
       "      <td>0.00</td>\n",
       "      <td>2</td>\n",
       "      <td>0</td>\n",
       "      <td>0</td>\n",
       "      <td>93826.63</td>\n",
       "      <td>0</td>\n",
       "    </tr>\n",
       "    <tr>\n",
       "      <th>4</th>\n",
       "      <td>5</td>\n",
       "      <td>15737888</td>\n",
       "      <td>Mitchell</td>\n",
       "      <td>850</td>\n",
       "      <td>Spain</td>\n",
       "      <td>Female</td>\n",
       "      <td>43</td>\n",
       "      <td>2.0</td>\n",
       "      <td>125510.82</td>\n",
       "      <td>1</td>\n",
       "      <td>1</td>\n",
       "      <td>1</td>\n",
       "      <td>79084.10</td>\n",
       "      <td>0</td>\n",
       "    </tr>\n",
       "    <tr>\n",
       "      <th>5</th>\n",
       "      <td>6</td>\n",
       "      <td>15574012</td>\n",
       "      <td>Chu</td>\n",
       "      <td>645</td>\n",
       "      <td>Spain</td>\n",
       "      <td>Male</td>\n",
       "      <td>44</td>\n",
       "      <td>8.0</td>\n",
       "      <td>113755.78</td>\n",
       "      <td>2</td>\n",
       "      <td>1</td>\n",
       "      <td>0</td>\n",
       "      <td>149756.71</td>\n",
       "      <td>1</td>\n",
       "    </tr>\n",
       "    <tr>\n",
       "      <th>6</th>\n",
       "      <td>7</td>\n",
       "      <td>15592531</td>\n",
       "      <td>Bartlett</td>\n",
       "      <td>822</td>\n",
       "      <td>France</td>\n",
       "      <td>Male</td>\n",
       "      <td>50</td>\n",
       "      <td>7.0</td>\n",
       "      <td>0.00</td>\n",
       "      <td>2</td>\n",
       "      <td>1</td>\n",
       "      <td>1</td>\n",
       "      <td>10062.80</td>\n",
       "      <td>0</td>\n",
       "    </tr>\n",
       "    <tr>\n",
       "      <th>7</th>\n",
       "      <td>8</td>\n",
       "      <td>15656148</td>\n",
       "      <td>Obinna</td>\n",
       "      <td>376</td>\n",
       "      <td>Germany</td>\n",
       "      <td>Female</td>\n",
       "      <td>29</td>\n",
       "      <td>4.0</td>\n",
       "      <td>115046.74</td>\n",
       "      <td>4</td>\n",
       "      <td>1</td>\n",
       "      <td>0</td>\n",
       "      <td>119346.88</td>\n",
       "      <td>1</td>\n",
       "    </tr>\n",
       "    <tr>\n",
       "      <th>8</th>\n",
       "      <td>9</td>\n",
       "      <td>15792365</td>\n",
       "      <td>He</td>\n",
       "      <td>501</td>\n",
       "      <td>France</td>\n",
       "      <td>Male</td>\n",
       "      <td>44</td>\n",
       "      <td>4.0</td>\n",
       "      <td>142051.07</td>\n",
       "      <td>2</td>\n",
       "      <td>0</td>\n",
       "      <td>1</td>\n",
       "      <td>74940.50</td>\n",
       "      <td>0</td>\n",
       "    </tr>\n",
       "    <tr>\n",
       "      <th>9</th>\n",
       "      <td>10</td>\n",
       "      <td>15592389</td>\n",
       "      <td>H?</td>\n",
       "      <td>684</td>\n",
       "      <td>France</td>\n",
       "      <td>Male</td>\n",
       "      <td>27</td>\n",
       "      <td>2.0</td>\n",
       "      <td>134603.88</td>\n",
       "      <td>1</td>\n",
       "      <td>1</td>\n",
       "      <td>1</td>\n",
       "      <td>71725.73</td>\n",
       "      <td>0</td>\n",
       "    </tr>\n",
       "  </tbody>\n",
       "</table>\n",
       "</div>"
      ],
      "text/plain": [
       "   RowNumber  CustomerId   Surname  CreditScore Geography  Gender  Age  \\\n",
       "0          1    15634602  Hargrave          619    France  Female   42   \n",
       "1          2    15647311      Hill          608     Spain  Female   41   \n",
       "2          3    15619304      Onio          502    France  Female   42   \n",
       "3          4    15701354      Boni          699    France  Female   39   \n",
       "4          5    15737888  Mitchell          850     Spain  Female   43   \n",
       "5          6    15574012       Chu          645     Spain    Male   44   \n",
       "6          7    15592531  Bartlett          822    France    Male   50   \n",
       "7          8    15656148    Obinna          376   Germany  Female   29   \n",
       "8          9    15792365        He          501    France    Male   44   \n",
       "9         10    15592389        H?          684    France    Male   27   \n",
       "\n",
       "   Tenure    Balance  NumOfProducts  HasCrCard  IsActiveMember  \\\n",
       "0     2.0       0.00              1          1               1   \n",
       "1     1.0   83807.86              1          0               1   \n",
       "2     8.0  159660.80              3          1               0   \n",
       "3     1.0       0.00              2          0               0   \n",
       "4     2.0  125510.82              1          1               1   \n",
       "5     8.0  113755.78              2          1               0   \n",
       "6     7.0       0.00              2          1               1   \n",
       "7     4.0  115046.74              4          1               0   \n",
       "8     4.0  142051.07              2          0               1   \n",
       "9     2.0  134603.88              1          1               1   \n",
       "\n",
       "   EstimatedSalary  Exited  \n",
       "0        101348.88       1  \n",
       "1        112542.58       0  \n",
       "2        113931.57       1  \n",
       "3         93826.63       0  \n",
       "4         79084.10       0  \n",
       "5        149756.71       1  \n",
       "6         10062.80       0  \n",
       "7        119346.88       1  \n",
       "8         74940.50       0  \n",
       "9         71725.73       0  "
      ]
     },
     "execution_count": 2,
     "metadata": {},
     "output_type": "execute_result"
    }
   ],
   "source": [
    "# Читаем и записываем датасет в переменную data и выврдим первые 10 строк\n",
    "# используем подход try & except для избежания ошибки, при открытии данных, расположенных по другому адресу\n",
    "\n",
    "try:\n",
    "    data = pd.read_csv('/Users/tbetterknow/Desktop/Яндекс_Практикум/12. Обучение с учителем/Churn (1).csv')\n",
    "    \n",
    "except:\n",
    "    data = pd.read_csv('/datasets/Churn.csv')\n",
    "    \n",
    "data.head(10)"
   ]
  },
  {
   "cell_type": "code",
   "execution_count": 222,
   "id": "62daa3ef",
   "metadata": {},
   "outputs": [
    {
     "name": "stdout",
     "output_type": "stream",
     "text": [
      "<class 'pandas.core.frame.DataFrame'>\n",
      "RangeIndex: 10000 entries, 0 to 9999\n",
      "Data columns (total 14 columns):\n",
      " #   Column           Non-Null Count  Dtype  \n",
      "---  ------           --------------  -----  \n",
      " 0   RowNumber        10000 non-null  int64  \n",
      " 1   CustomerId       10000 non-null  int64  \n",
      " 2   Surname          10000 non-null  object \n",
      " 3   CreditScore      10000 non-null  int64  \n",
      " 4   Geography        10000 non-null  object \n",
      " 5   Gender           10000 non-null  object \n",
      " 6   Age              10000 non-null  int64  \n",
      " 7   Tenure           9091 non-null   float64\n",
      " 8   Balance          10000 non-null  float64\n",
      " 9   NumOfProducts    10000 non-null  int64  \n",
      " 10  HasCrCard        10000 non-null  int64  \n",
      " 11  IsActiveMember   10000 non-null  int64  \n",
      " 12  EstimatedSalary  10000 non-null  float64\n",
      " 13  Exited           10000 non-null  int64  \n",
      "dtypes: float64(3), int64(8), object(3)\n",
      "memory usage: 1.1+ MB\n"
     ]
    }
   ],
   "source": [
    "# Изучаем датасет с помощью метода info()\n",
    "data.info()"
   ]
  },
  {
   "cell_type": "markdown",
   "id": "49cfea93",
   "metadata": {},
   "source": [
    "Датасет состоит из 14 столбцов с 10000 строк.\n",
    "При первом анализе видно, что данные в столбце Tenure (сколько лет человек является клиентом банка) содержат пропуски, их нужно обработать. Предположим, что пропуск означает, что человек только что стал клиентом банка, поэтому заполним пропуски 0."
   ]
  },
  {
   "cell_type": "code",
   "execution_count": 223,
   "id": "145f5c0f",
   "metadata": {},
   "outputs": [
    {
     "name": "stdout",
     "output_type": "stream",
     "text": [
      "1.0     952\n",
      "2.0     950\n",
      "8.0     933\n",
      "3.0     928\n",
      "5.0     927\n",
      "7.0     925\n",
      "4.0     885\n",
      "9.0     882\n",
      "6.0     881\n",
      "10.0    446\n",
      "0.0     382\n",
      "Name: Tenure, dtype: int64\n"
     ]
    }
   ],
   "source": [
    "# Проверяем данные столбца Tenure с помощью value_counts\n",
    "print(data['Tenure'].value_counts())"
   ]
  },
  {
   "cell_type": "code",
   "execution_count": 224,
   "id": "da0f597f",
   "metadata": {},
   "outputs": [
    {
     "name": "stdout",
     "output_type": "stream",
     "text": [
      "Процент пропусков в столбце Tenure: 9.09\n"
     ]
    }
   ],
   "source": [
    "# Считаем процент пропусков в столбце Tenure\n",
    "print(\"Процент пропусков в столбце Tenure:\", data['Tenure'].isnull().sum() / len(data) * 100)"
   ]
  },
  {
   "cell_type": "markdown",
   "id": "5abb92d5",
   "metadata": {},
   "source": [
    "Принимаем решение об удалении строк с пропусками в столбце Tenure поскольку общий процент пропусков по отношению ко всем строкам 9% (не превышет 10%). Считаю, что заполнять данные медианным, и тем более уж средним значением будет неправильным решением, которые будут искажать результат.\n",
    "\n",
    "Также, на вский случай записываем обновленный датафрейм после преобразований в новую переменную data_new.\n",
    "Оставляем изначальный датафрейм на всякий случай."
   ]
  },
  {
   "cell_type": "code",
   "execution_count": 225,
   "id": "a63a58b4",
   "metadata": {},
   "outputs": [
    {
     "name": "stdout",
     "output_type": "stream",
     "text": [
      "<class 'pandas.core.frame.DataFrame'>\n",
      "Int64Index: 9091 entries, 0 to 9998\n",
      "Data columns (total 14 columns):\n",
      " #   Column           Non-Null Count  Dtype  \n",
      "---  ------           --------------  -----  \n",
      " 0   RowNumber        9091 non-null   int64  \n",
      " 1   CustomerId       9091 non-null   int64  \n",
      " 2   Surname          9091 non-null   object \n",
      " 3   CreditScore      9091 non-null   int64  \n",
      " 4   Geography        9091 non-null   object \n",
      " 5   Gender           9091 non-null   object \n",
      " 6   Age              9091 non-null   int64  \n",
      " 7   Tenure           9091 non-null   float64\n",
      " 8   Balance          9091 non-null   float64\n",
      " 9   NumOfProducts    9091 non-null   int64  \n",
      " 10  HasCrCard        9091 non-null   int64  \n",
      " 11  IsActiveMember   9091 non-null   int64  \n",
      " 12  EstimatedSalary  9091 non-null   float64\n",
      " 13  Exited           9091 non-null   int64  \n",
      "dtypes: float64(3), int64(8), object(3)\n",
      "memory usage: 1.0+ MB\n"
     ]
    }
   ],
   "source": [
    "# Удаляем пропуски и записываем новый датафрейм в новую переменную\n",
    "data_new = data.dropna(subset=['Tenure'])\n",
    "\n",
    "# Прверяем сделанные преобразования\n",
    "data_new.info()\n"
   ]
  },
  {
   "cell_type": "markdown",
   "id": "4988bb9a",
   "metadata": {},
   "source": [
    "Также, проверим такие столбцы как CustomerID и Surname на наличие дубликатов."
   ]
  },
  {
   "cell_type": "code",
   "execution_count": 226,
   "id": "be16de78",
   "metadata": {},
   "outputs": [
    {
     "data": {
      "text/plain": [
       "0"
      ]
     },
     "execution_count": 226,
     "metadata": {},
     "output_type": "execute_result"
    }
   ],
   "source": [
    "data_new['CustomerId'][data_new['CustomerId'].duplicated()].count()"
   ]
  },
  {
   "cell_type": "markdown",
   "id": "eed4c766",
   "metadata": {},
   "source": [
    "В столбце CustomerId дубликатов не обнаружено"
   ]
  },
  {
   "cell_type": "code",
   "execution_count": 227,
   "id": "1455bb95",
   "metadata": {},
   "outputs": [
    {
     "data": {
      "text/plain": [
       "6304"
      ]
     },
     "execution_count": 227,
     "metadata": {},
     "output_type": "execute_result"
    }
   ],
   "source": [
    "data_new['Surname'][data_new['Surname'].duplicated()].count()"
   ]
  },
  {
   "cell_type": "markdown",
   "id": "25267cb0",
   "metadata": {},
   "source": [
    "В столбце Surname обнаружено 6304 дубликатов. Однако, учитывая тот факт, что в столбце CustomerId дубликатов не обнаружено, можно смело предположить, что найденные дубликаты - это однофамильцы. Тем самым, принимаем решение в удалении столбца Surname так как данные не представляют ценности для анализа данных, Также удаляем столбцы CustomerId и RowNumber за ненадобностью."
   ]
  },
  {
   "cell_type": "code",
   "execution_count": 228,
   "id": "7d7ef022",
   "metadata": {},
   "outputs": [
    {
     "data": {
      "text/html": [
       "<div>\n",
       "<style scoped>\n",
       "    .dataframe tbody tr th:only-of-type {\n",
       "        vertical-align: middle;\n",
       "    }\n",
       "\n",
       "    .dataframe tbody tr th {\n",
       "        vertical-align: top;\n",
       "    }\n",
       "\n",
       "    .dataframe thead th {\n",
       "        text-align: right;\n",
       "    }\n",
       "</style>\n",
       "<table border=\"1\" class=\"dataframe\">\n",
       "  <thead>\n",
       "    <tr style=\"text-align: right;\">\n",
       "      <th></th>\n",
       "      <th>CreditScore</th>\n",
       "      <th>Geography</th>\n",
       "      <th>Gender</th>\n",
       "      <th>Age</th>\n",
       "      <th>Tenure</th>\n",
       "      <th>Balance</th>\n",
       "      <th>NumOfProducts</th>\n",
       "      <th>HasCrCard</th>\n",
       "      <th>IsActiveMember</th>\n",
       "      <th>EstimatedSalary</th>\n",
       "      <th>Exited</th>\n",
       "    </tr>\n",
       "  </thead>\n",
       "  <tbody>\n",
       "    <tr>\n",
       "      <th>0</th>\n",
       "      <td>619</td>\n",
       "      <td>France</td>\n",
       "      <td>Female</td>\n",
       "      <td>42</td>\n",
       "      <td>2.0</td>\n",
       "      <td>0.00</td>\n",
       "      <td>1</td>\n",
       "      <td>1</td>\n",
       "      <td>1</td>\n",
       "      <td>101348.88</td>\n",
       "      <td>1</td>\n",
       "    </tr>\n",
       "    <tr>\n",
       "      <th>1</th>\n",
       "      <td>608</td>\n",
       "      <td>Spain</td>\n",
       "      <td>Female</td>\n",
       "      <td>41</td>\n",
       "      <td>1.0</td>\n",
       "      <td>83807.86</td>\n",
       "      <td>1</td>\n",
       "      <td>0</td>\n",
       "      <td>1</td>\n",
       "      <td>112542.58</td>\n",
       "      <td>0</td>\n",
       "    </tr>\n",
       "    <tr>\n",
       "      <th>2</th>\n",
       "      <td>502</td>\n",
       "      <td>France</td>\n",
       "      <td>Female</td>\n",
       "      <td>42</td>\n",
       "      <td>8.0</td>\n",
       "      <td>159660.80</td>\n",
       "      <td>3</td>\n",
       "      <td>1</td>\n",
       "      <td>0</td>\n",
       "      <td>113931.57</td>\n",
       "      <td>1</td>\n",
       "    </tr>\n",
       "    <tr>\n",
       "      <th>3</th>\n",
       "      <td>699</td>\n",
       "      <td>France</td>\n",
       "      <td>Female</td>\n",
       "      <td>39</td>\n",
       "      <td>1.0</td>\n",
       "      <td>0.00</td>\n",
       "      <td>2</td>\n",
       "      <td>0</td>\n",
       "      <td>0</td>\n",
       "      <td>93826.63</td>\n",
       "      <td>0</td>\n",
       "    </tr>\n",
       "    <tr>\n",
       "      <th>4</th>\n",
       "      <td>850</td>\n",
       "      <td>Spain</td>\n",
       "      <td>Female</td>\n",
       "      <td>43</td>\n",
       "      <td>2.0</td>\n",
       "      <td>125510.82</td>\n",
       "      <td>1</td>\n",
       "      <td>1</td>\n",
       "      <td>1</td>\n",
       "      <td>79084.10</td>\n",
       "      <td>0</td>\n",
       "    </tr>\n",
       "  </tbody>\n",
       "</table>\n",
       "</div>"
      ],
      "text/plain": [
       "   CreditScore Geography  Gender  Age  Tenure    Balance  NumOfProducts  \\\n",
       "0          619    France  Female   42     2.0       0.00              1   \n",
       "1          608     Spain  Female   41     1.0   83807.86              1   \n",
       "2          502    France  Female   42     8.0  159660.80              3   \n",
       "3          699    France  Female   39     1.0       0.00              2   \n",
       "4          850     Spain  Female   43     2.0  125510.82              1   \n",
       "\n",
       "   HasCrCard  IsActiveMember  EstimatedSalary  Exited  \n",
       "0          1               1        101348.88       1  \n",
       "1          0               1        112542.58       0  \n",
       "2          1               0        113931.57       1  \n",
       "3          0               0         93826.63       0  \n",
       "4          1               1         79084.10       0  "
      ]
     },
     "execution_count": 228,
     "metadata": {},
     "output_type": "execute_result"
    }
   ],
   "source": [
    "# Обозначим новый датафрейм \"data_ml\" — данные для машинного обучения\n",
    "# Удалим столбцы, не представляющие ценности \n",
    "# создадим список for_drop = ['RowNumber', 'CustomerId', 'Surname']\n",
    "drop = ['RowNumber', 'CustomerId', 'Surname']\n",
    "data_ml = data_new.drop(drop, axis=1)\n",
    "data_ml.head()"
   ]
  },
  {
   "cell_type": "code",
   "execution_count": 229,
   "id": "26c1b679",
   "metadata": {},
   "outputs": [
    {
     "name": "stdout",
     "output_type": "stream",
     "text": [
      "<class 'pandas.core.frame.DataFrame'>\n",
      "Int64Index: 9091 entries, 0 to 9998\n",
      "Data columns (total 11 columns):\n",
      " #   Column           Non-Null Count  Dtype  \n",
      "---  ------           --------------  -----  \n",
      " 0   CreditScore      9091 non-null   int64  \n",
      " 1   Geography        9091 non-null   object \n",
      " 2   Gender           9091 non-null   object \n",
      " 3   Age              9091 non-null   int64  \n",
      " 4   Tenure           9091 non-null   float64\n",
      " 5   Balance          9091 non-null   float64\n",
      " 6   NumOfProducts    9091 non-null   int64  \n",
      " 7   HasCrCard        9091 non-null   int64  \n",
      " 8   IsActiveMember   9091 non-null   int64  \n",
      " 9   EstimatedSalary  9091 non-null   float64\n",
      " 10  Exited           9091 non-null   int64  \n",
      "dtypes: float64(3), int64(6), object(2)\n",
      "memory usage: 852.3+ KB\n"
     ]
    }
   ],
   "source": [
    "# На всякий случай проверим сделанные преобразования (должно получиться 11 столбцов)\n",
    "data_ml.info()"
   ]
  },
  {
   "cell_type": "markdown",
   "id": "91ebf1bc",
   "metadata": {},
   "source": [
    "**Первичная подготовка данных в датасете выполнена.**\n",
    "1) Мы заполнили пропуски в столбце Tenure\n",
    "\n",
    "2) Проверили данные на наличие дубликатов в важных столбцах CustomerId и Surname, которые позволили нам заключить, что задвоенных данных в датасете нет\n",
    "\n",
    "3) Удалили ненужные столбцы RowNumber, CustomerId и Surname, которые не представляют ценности"
   ]
  },
  {
   "cell_type": "markdown",
   "id": "d341de4b",
   "metadata": {},
   "source": [
    "**Подготовка данных к анализу данных**"
   ]
  },
  {
   "cell_type": "markdown",
   "id": "1aa79098",
   "metadata": {},
   "source": [
    "Целевой признак Exited — факт ухода клиента. \n",
    "Данный признак является категориальным, поэтому задача должны решаться методами классификации.\n",
    "\n",
    "Данные подготовим методом OHE (one-hot-encoding), что позволит нам использовать модели, DecisionTreeClassifier, RandomForestClassifier и LogisticRegression.\n",
    "\n",
    "- Столбец Geography имеет всего 3 уникальных значения France', 'Spain', 'Germany' — требуется выполнить преобразование OHE\n",
    "- Столбец Gender имеет значение преобразовать — OHE\n",
    "- Стобец Age — требуется проработка OHE\n",
    "- Столбец Exited - требуется проработка OHE"
   ]
  },
  {
   "cell_type": "code",
   "execution_count": 230,
   "id": "3c4ff27b",
   "metadata": {},
   "outputs": [
    {
     "data": {
      "text/html": [
       "<div>\n",
       "<style scoped>\n",
       "    .dataframe tbody tr th:only-of-type {\n",
       "        vertical-align: middle;\n",
       "    }\n",
       "\n",
       "    .dataframe tbody tr th {\n",
       "        vertical-align: top;\n",
       "    }\n",
       "\n",
       "    .dataframe thead th {\n",
       "        text-align: right;\n",
       "    }\n",
       "</style>\n",
       "<table border=\"1\" class=\"dataframe\">\n",
       "  <thead>\n",
       "    <tr style=\"text-align: right;\">\n",
       "      <th></th>\n",
       "      <th>CreditScore</th>\n",
       "      <th>Age</th>\n",
       "      <th>Tenure</th>\n",
       "      <th>Balance</th>\n",
       "      <th>NumOfProducts</th>\n",
       "      <th>HasCrCard</th>\n",
       "      <th>IsActiveMember</th>\n",
       "      <th>EstimatedSalary</th>\n",
       "      <th>Exited</th>\n",
       "      <th>Geography_Germany</th>\n",
       "      <th>Geography_Spain</th>\n",
       "      <th>Gender_Male</th>\n",
       "    </tr>\n",
       "  </thead>\n",
       "  <tbody>\n",
       "    <tr>\n",
       "      <th>0</th>\n",
       "      <td>619</td>\n",
       "      <td>42</td>\n",
       "      <td>2.0</td>\n",
       "      <td>0.00</td>\n",
       "      <td>1</td>\n",
       "      <td>1</td>\n",
       "      <td>1</td>\n",
       "      <td>101348.88</td>\n",
       "      <td>1</td>\n",
       "      <td>0</td>\n",
       "      <td>0</td>\n",
       "      <td>0</td>\n",
       "    </tr>\n",
       "    <tr>\n",
       "      <th>1</th>\n",
       "      <td>608</td>\n",
       "      <td>41</td>\n",
       "      <td>1.0</td>\n",
       "      <td>83807.86</td>\n",
       "      <td>1</td>\n",
       "      <td>0</td>\n",
       "      <td>1</td>\n",
       "      <td>112542.58</td>\n",
       "      <td>0</td>\n",
       "      <td>0</td>\n",
       "      <td>1</td>\n",
       "      <td>0</td>\n",
       "    </tr>\n",
       "    <tr>\n",
       "      <th>2</th>\n",
       "      <td>502</td>\n",
       "      <td>42</td>\n",
       "      <td>8.0</td>\n",
       "      <td>159660.80</td>\n",
       "      <td>3</td>\n",
       "      <td>1</td>\n",
       "      <td>0</td>\n",
       "      <td>113931.57</td>\n",
       "      <td>1</td>\n",
       "      <td>0</td>\n",
       "      <td>0</td>\n",
       "      <td>0</td>\n",
       "    </tr>\n",
       "    <tr>\n",
       "      <th>3</th>\n",
       "      <td>699</td>\n",
       "      <td>39</td>\n",
       "      <td>1.0</td>\n",
       "      <td>0.00</td>\n",
       "      <td>2</td>\n",
       "      <td>0</td>\n",
       "      <td>0</td>\n",
       "      <td>93826.63</td>\n",
       "      <td>0</td>\n",
       "      <td>0</td>\n",
       "      <td>0</td>\n",
       "      <td>0</td>\n",
       "    </tr>\n",
       "    <tr>\n",
       "      <th>4</th>\n",
       "      <td>850</td>\n",
       "      <td>43</td>\n",
       "      <td>2.0</td>\n",
       "      <td>125510.82</td>\n",
       "      <td>1</td>\n",
       "      <td>1</td>\n",
       "      <td>1</td>\n",
       "      <td>79084.10</td>\n",
       "      <td>0</td>\n",
       "      <td>0</td>\n",
       "      <td>1</td>\n",
       "      <td>0</td>\n",
       "    </tr>\n",
       "  </tbody>\n",
       "</table>\n",
       "</div>"
      ],
      "text/plain": [
       "   CreditScore  Age  Tenure    Balance  NumOfProducts  HasCrCard  \\\n",
       "0          619   42     2.0       0.00              1          1   \n",
       "1          608   41     1.0   83807.86              1          0   \n",
       "2          502   42     8.0  159660.80              3          1   \n",
       "3          699   39     1.0       0.00              2          0   \n",
       "4          850   43     2.0  125510.82              1          1   \n",
       "\n",
       "   IsActiveMember  EstimatedSalary  Exited  Geography_Germany  \\\n",
       "0               1        101348.88       1                  0   \n",
       "1               1        112542.58       0                  0   \n",
       "2               0        113931.57       1                  0   \n",
       "3               0         93826.63       0                  0   \n",
       "4               1         79084.10       0                  0   \n",
       "\n",
       "   Geography_Spain  Gender_Male  \n",
       "0                0            0  \n",
       "1                1            0  \n",
       "2                0            0  \n",
       "3                0            0  \n",
       "4                1            0  "
      ]
     },
     "execution_count": 230,
     "metadata": {},
     "output_type": "execute_result"
    }
   ],
   "source": [
    "# Используем метод pd.get_dummies с настройкой drop_first=True что позволит нам \n",
    "data_ml = pd.get_dummies(data_ml, drop_first=True)\n",
    "data_ml.head()"
   ]
  },
  {
   "cell_type": "code",
   "execution_count": 231,
   "id": "4d305edd",
   "metadata": {},
   "outputs": [
    {
     "data": {
      "text/plain": [
       "(9091, 12)"
      ]
     },
     "execution_count": 231,
     "metadata": {},
     "output_type": "execute_result"
    }
   ],
   "source": [
    "data_ml.shape"
   ]
  },
  {
   "cell_type": "markdown",
   "id": "9de11a50",
   "metadata": {},
   "source": [
    "В новом датафрейме мы получили 13 столбцов.\n",
    "Столбец Geography содержал 3 класса, Gender - 2 класса. Как результат, мы получили только 2 и 1 столбцов соответственно, что позволяет избежать дами-ловушки."
   ]
  },
  {
   "cell_type": "markdown",
   "id": "cff64c01",
   "metadata": {},
   "source": [
    "**Разделение датасета на выборки: обучающую (60%), валидационную (20%) и тестовую (20%)**"
   ]
  },
  {
   "cell_type": "code",
   "execution_count": 232,
   "id": "bf49da44",
   "metadata": {},
   "outputs": [],
   "source": [
    "# Создаем признаки и целевой параметр\n",
    "features = data_ml.drop('Exited', axis=1)\n",
    "target = data_ml['Exited']"
   ]
  },
  {
   "cell_type": "code",
   "execution_count": 342,
   "id": "cf5d6be2",
   "metadata": {},
   "outputs": [],
   "source": [
    "# Создаем валидационную выборку 60%\n",
    "features_train, features_validtest, target_train, target_validtest = train_test_split(features,\n",
    "                                                    target,\n",
    "                                                    train_size=0.6,\n",
    "                                                    random_state=12345,\n",
    "                                                    stratify=target)"
   ]
  },
  {
   "cell_type": "code",
   "execution_count": 344,
   "id": "78ad141d",
   "metadata": {},
   "outputs": [],
   "source": [
    "# Разделяем оставшиеся 40% на 2 равные части (валидационная 20% и тестовая 20%)\n",
    "features_valid, features_test, target_valid, target_test = train_test_split(features_validtest,\n",
    "                                                    target_validtest,\n",
    "                                                    train_size=0.5,\n",
    "                                                    random_state=12345)"
   ]
  },
  {
   "cell_type": "code",
   "execution_count": 345,
   "id": "caf8fb48",
   "metadata": {},
   "outputs": [
    {
     "name": "stdout",
     "output_type": "stream",
     "text": [
      "(4545, 11) (4546, 11) (4545,) (4546,)\n"
     ]
    }
   ],
   "source": [
    "# Проверяем корректность разбивки\n",
    "print(features_train.shape, features_validtest.shape, target_train.shape, target_validtest.shape)"
   ]
  },
  {
   "cell_type": "code",
   "execution_count": 346,
   "id": "4a35a17a",
   "metadata": {},
   "outputs": [
    {
     "name": "stdout",
     "output_type": "stream",
     "text": [
      "(2273, 11) (2273,) (2273, 11) (2273,)\n"
     ]
    }
   ],
   "source": [
    "# Проверяем корректность разбивки\n",
    "print(features_valid.shape, target_valid.shape, features_test.shape, target_test.shape)"
   ]
  },
  {
   "cell_type": "markdown",
   "id": "1bb8afce",
   "metadata": {},
   "source": [
    "Все преобразования (разделение на выборки) выполнены корректно."
   ]
  },
  {
   "cell_type": "markdown",
   "id": "8a9c33c6",
   "metadata": {},
   "source": [
    "**Стандартизация / масштабирование признаков**"
   ]
  },
  {
   "cell_type": "markdown",
   "id": "5649e878",
   "metadata": {},
   "source": [
    "Поскольку наши численные признаки имеют разные масштабы, требуется их стандартизация (масштабирование). Для этих целей будем использовать StandardScaller из sklearn.preprocessing (загружен в разделе 1) и стандартизируем признаки всех трех выборок (обучающей, валидационной, тестовой)."
   ]
  },
  {
   "cell_type": "code",
   "execution_count": 347,
   "id": "ce66ebbe",
   "metadata": {},
   "outputs": [],
   "source": [
    "# Создаем список с численными признаками для стандартизации\n",
    "numeric = ['CreditScore', 'Age', 'Tenure', 'Balance', 'NumOfProducts', 'EstimatedSalary']"
   ]
  },
  {
   "cell_type": "code",
   "execution_count": 348,
   "id": "c741528b",
   "metadata": {},
   "outputs": [
    {
     "data": {
      "text/plain": [
       "StandardScaler()"
      ]
     },
     "execution_count": 348,
     "metadata": {},
     "output_type": "execute_result"
    }
   ],
   "source": [
    "# Создаем объект этой структуры и настраиваем его на обучающих данных:\n",
    "scaler = StandardScaler()\n",
    "scaler.fit(features_train[numeric])"
   ]
  },
  {
   "cell_type": "code",
   "execution_count": 349,
   "id": "acee723b",
   "metadata": {},
   "outputs": [
    {
     "name": "stderr",
     "output_type": "stream",
     "text": [
      "/tmp/ipykernel_30/1382041671.py:2: SettingWithCopyWarning: \n",
      "A value is trying to be set on a copy of a slice from a DataFrame.\n",
      "Try using .loc[row_indexer,col_indexer] = value instead\n",
      "\n",
      "See the caveats in the documentation: https://pandas.pydata.org/pandas-docs/stable/user_guide/indexing.html#returning-a-view-versus-a-copy\n",
      "  features_train[numeric] = scaler.transform(features_train[numeric])\n",
      "/opt/conda/lib/python3.9/site-packages/pandas/core/indexing.py:1738: SettingWithCopyWarning: \n",
      "A value is trying to be set on a copy of a slice from a DataFrame.\n",
      "Try using .loc[row_indexer,col_indexer] = value instead\n",
      "\n",
      "See the caveats in the documentation: https://pandas.pydata.org/pandas-docs/stable/user_guide/indexing.html#returning-a-view-versus-a-copy\n",
      "  self._setitem_single_column(loc, value[:, i].tolist(), pi)\n"
     ]
    },
    {
     "data": {
      "text/html": [
       "<div>\n",
       "<style scoped>\n",
       "    .dataframe tbody tr th:only-of-type {\n",
       "        vertical-align: middle;\n",
       "    }\n",
       "\n",
       "    .dataframe tbody tr th {\n",
       "        vertical-align: top;\n",
       "    }\n",
       "\n",
       "    .dataframe thead th {\n",
       "        text-align: right;\n",
       "    }\n",
       "</style>\n",
       "<table border=\"1\" class=\"dataframe\">\n",
       "  <thead>\n",
       "    <tr style=\"text-align: right;\">\n",
       "      <th></th>\n",
       "      <th>CreditScore</th>\n",
       "      <th>Age</th>\n",
       "      <th>Tenure</th>\n",
       "      <th>Balance</th>\n",
       "      <th>NumOfProducts</th>\n",
       "      <th>HasCrCard</th>\n",
       "      <th>IsActiveMember</th>\n",
       "      <th>EstimatedSalary</th>\n",
       "      <th>Geography_Germany</th>\n",
       "      <th>Geography_Spain</th>\n",
       "      <th>Gender_Male</th>\n",
       "    </tr>\n",
       "  </thead>\n",
       "  <tbody>\n",
       "    <tr>\n",
       "      <th>1496</th>\n",
       "      <td>-0.848067</td>\n",
       "      <td>-0.080742</td>\n",
       "      <td>1.031610</td>\n",
       "      <td>-1.218998</td>\n",
       "      <td>0.787562</td>\n",
       "      <td>0</td>\n",
       "      <td>0</td>\n",
       "      <td>-0.347510</td>\n",
       "      <td>0</td>\n",
       "      <td>1</td>\n",
       "      <td>1</td>\n",
       "    </tr>\n",
       "    <tr>\n",
       "      <th>3105</th>\n",
       "      <td>0.293363</td>\n",
       "      <td>-1.039143</td>\n",
       "      <td>-0.360512</td>\n",
       "      <td>-1.218998</td>\n",
       "      <td>0.787562</td>\n",
       "      <td>1</td>\n",
       "      <td>1</td>\n",
       "      <td>0.778706</td>\n",
       "      <td>0</td>\n",
       "      <td>0</td>\n",
       "      <td>0</td>\n",
       "    </tr>\n",
       "    <tr>\n",
       "      <th>7050</th>\n",
       "      <td>-0.617686</td>\n",
       "      <td>-0.943303</td>\n",
       "      <td>0.335549</td>\n",
       "      <td>-1.218998</td>\n",
       "      <td>0.787562</td>\n",
       "      <td>1</td>\n",
       "      <td>1</td>\n",
       "      <td>0.157617</td>\n",
       "      <td>0</td>\n",
       "      <td>0</td>\n",
       "      <td>1</td>\n",
       "    </tr>\n",
       "    <tr>\n",
       "      <th>6054</th>\n",
       "      <td>-0.177869</td>\n",
       "      <td>0.781819</td>\n",
       "      <td>-1.752634</td>\n",
       "      <td>-1.218998</td>\n",
       "      <td>-0.910478</td>\n",
       "      <td>1</td>\n",
       "      <td>1</td>\n",
       "      <td>-1.620950</td>\n",
       "      <td>0</td>\n",
       "      <td>0</td>\n",
       "      <td>0</td>\n",
       "    </tr>\n",
       "    <tr>\n",
       "      <th>3727</th>\n",
       "      <td>1.371962</td>\n",
       "      <td>-1.134983</td>\n",
       "      <td>0.683579</td>\n",
       "      <td>1.774280</td>\n",
       "      <td>-0.910478</td>\n",
       "      <td>1</td>\n",
       "      <td>1</td>\n",
       "      <td>1.311330</td>\n",
       "      <td>0</td>\n",
       "      <td>0</td>\n",
       "      <td>0</td>\n",
       "    </tr>\n",
       "  </tbody>\n",
       "</table>\n",
       "</div>"
      ],
      "text/plain": [
       "      CreditScore       Age    Tenure   Balance  NumOfProducts  HasCrCard  \\\n",
       "1496    -0.848067 -0.080742  1.031610 -1.218998       0.787562          0   \n",
       "3105     0.293363 -1.039143 -0.360512 -1.218998       0.787562          1   \n",
       "7050    -0.617686 -0.943303  0.335549 -1.218998       0.787562          1   \n",
       "6054    -0.177869  0.781819 -1.752634 -1.218998      -0.910478          1   \n",
       "3727     1.371962 -1.134983  0.683579  1.774280      -0.910478          1   \n",
       "\n",
       "      IsActiveMember  EstimatedSalary  Geography_Germany  Geography_Spain  \\\n",
       "1496               0        -0.347510                  0                1   \n",
       "3105               1         0.778706                  0                0   \n",
       "7050               1         0.157617                  0                0   \n",
       "6054               1        -1.620950                  0                0   \n",
       "3727               1         1.311330                  0                0   \n",
       "\n",
       "      Gender_Male  \n",
       "1496            1  \n",
       "3105            0  \n",
       "7050            1  \n",
       "6054            0  \n",
       "3727            0  "
      ]
     },
     "execution_count": 349,
     "metadata": {},
     "output_type": "execute_result"
    }
   ],
   "source": [
    "# Масштабируем численные признаки обучающей выборки \n",
    "features_train[numeric] = scaler.transform(features_train[numeric])\n",
    "features_train.head()"
   ]
  },
  {
   "cell_type": "code",
   "execution_count": 350,
   "id": "a58d99dd",
   "metadata": {},
   "outputs": [
    {
     "name": "stderr",
     "output_type": "stream",
     "text": [
      "/tmp/ipykernel_30/867471435.py:2: SettingWithCopyWarning: \n",
      "A value is trying to be set on a copy of a slice from a DataFrame.\n",
      "Try using .loc[row_indexer,col_indexer] = value instead\n",
      "\n",
      "See the caveats in the documentation: https://pandas.pydata.org/pandas-docs/stable/user_guide/indexing.html#returning-a-view-versus-a-copy\n",
      "  features_valid[numeric] = scaler.transform(features_valid[numeric])\n",
      "/opt/conda/lib/python3.9/site-packages/pandas/core/indexing.py:1738: SettingWithCopyWarning: \n",
      "A value is trying to be set on a copy of a slice from a DataFrame.\n",
      "Try using .loc[row_indexer,col_indexer] = value instead\n",
      "\n",
      "See the caveats in the documentation: https://pandas.pydata.org/pandas-docs/stable/user_guide/indexing.html#returning-a-view-versus-a-copy\n",
      "  self._setitem_single_column(loc, value[:, i].tolist(), pi)\n"
     ]
    },
    {
     "data": {
      "text/html": [
       "<div>\n",
       "<style scoped>\n",
       "    .dataframe tbody tr th:only-of-type {\n",
       "        vertical-align: middle;\n",
       "    }\n",
       "\n",
       "    .dataframe tbody tr th {\n",
       "        vertical-align: top;\n",
       "    }\n",
       "\n",
       "    .dataframe thead th {\n",
       "        text-align: right;\n",
       "    }\n",
       "</style>\n",
       "<table border=\"1\" class=\"dataframe\">\n",
       "  <thead>\n",
       "    <tr style=\"text-align: right;\">\n",
       "      <th></th>\n",
       "      <th>CreditScore</th>\n",
       "      <th>Age</th>\n",
       "      <th>Tenure</th>\n",
       "      <th>Balance</th>\n",
       "      <th>NumOfProducts</th>\n",
       "      <th>HasCrCard</th>\n",
       "      <th>IsActiveMember</th>\n",
       "      <th>EstimatedSalary</th>\n",
       "      <th>Geography_Germany</th>\n",
       "      <th>Geography_Spain</th>\n",
       "      <th>Gender_Male</th>\n",
       "    </tr>\n",
       "  </thead>\n",
       "  <tbody>\n",
       "    <tr>\n",
       "      <th>2884</th>\n",
       "      <td>-0.314003</td>\n",
       "      <td>-0.943303</td>\n",
       "      <td>-0.708543</td>\n",
       "      <td>-1.218998</td>\n",
       "      <td>0.787562</td>\n",
       "      <td>0</td>\n",
       "      <td>1</td>\n",
       "      <td>0.934577</td>\n",
       "      <td>0</td>\n",
       "      <td>0</td>\n",
       "      <td>0</td>\n",
       "    </tr>\n",
       "    <tr>\n",
       "      <th>6642</th>\n",
       "      <td>-0.638630</td>\n",
       "      <td>-0.176582</td>\n",
       "      <td>0.335549</td>\n",
       "      <td>1.003160</td>\n",
       "      <td>-0.910478</td>\n",
       "      <td>0</td>\n",
       "      <td>1</td>\n",
       "      <td>-1.401184</td>\n",
       "      <td>0</td>\n",
       "      <td>0</td>\n",
       "      <td>0</td>\n",
       "    </tr>\n",
       "    <tr>\n",
       "      <th>195</th>\n",
       "      <td>1.644230</td>\n",
       "      <td>-0.368262</td>\n",
       "      <td>-0.708543</td>\n",
       "      <td>1.585460</td>\n",
       "      <td>-0.910478</td>\n",
       "      <td>1</td>\n",
       "      <td>1</td>\n",
       "      <td>-1.720747</td>\n",
       "      <td>0</td>\n",
       "      <td>0</td>\n",
       "      <td>1</td>\n",
       "    </tr>\n",
       "    <tr>\n",
       "      <th>2558</th>\n",
       "      <td>0.806483</td>\n",
       "      <td>-0.847463</td>\n",
       "      <td>1.031610</td>\n",
       "      <td>0.690760</td>\n",
       "      <td>0.787562</td>\n",
       "      <td>1</td>\n",
       "      <td>1</td>\n",
       "      <td>0.665403</td>\n",
       "      <td>1</td>\n",
       "      <td>0</td>\n",
       "      <td>0</td>\n",
       "    </tr>\n",
       "    <tr>\n",
       "      <th>5591</th>\n",
       "      <td>-1.162222</td>\n",
       "      <td>-0.080742</td>\n",
       "      <td>-0.012482</td>\n",
       "      <td>-1.218998</td>\n",
       "      <td>0.787562</td>\n",
       "      <td>1</td>\n",
       "      <td>0</td>\n",
       "      <td>-0.907632</td>\n",
       "      <td>0</td>\n",
       "      <td>0</td>\n",
       "      <td>1</td>\n",
       "    </tr>\n",
       "  </tbody>\n",
       "</table>\n",
       "</div>"
      ],
      "text/plain": [
       "      CreditScore       Age    Tenure   Balance  NumOfProducts  HasCrCard  \\\n",
       "2884    -0.314003 -0.943303 -0.708543 -1.218998       0.787562          0   \n",
       "6642    -0.638630 -0.176582  0.335549  1.003160      -0.910478          0   \n",
       "195      1.644230 -0.368262 -0.708543  1.585460      -0.910478          1   \n",
       "2558     0.806483 -0.847463  1.031610  0.690760       0.787562          1   \n",
       "5591    -1.162222 -0.080742 -0.012482 -1.218998       0.787562          1   \n",
       "\n",
       "      IsActiveMember  EstimatedSalary  Geography_Germany  Geography_Spain  \\\n",
       "2884               1         0.934577                  0                0   \n",
       "6642               1        -1.401184                  0                0   \n",
       "195                1        -1.720747                  0                0   \n",
       "2558               1         0.665403                  1                0   \n",
       "5591               0        -0.907632                  0                0   \n",
       "\n",
       "      Gender_Male  \n",
       "2884            0  \n",
       "6642            0  \n",
       "195             1  \n",
       "2558            0  \n",
       "5591            1  "
      ]
     },
     "execution_count": 350,
     "metadata": {},
     "output_type": "execute_result"
    }
   ],
   "source": [
    "# Масштабируем численные признаки валидационной выборки \n",
    "features_valid[numeric] = scaler.transform(features_valid[numeric])\n",
    "features_valid.head()"
   ]
  },
  {
   "cell_type": "code",
   "execution_count": 351,
   "id": "dad6570e",
   "metadata": {},
   "outputs": [
    {
     "name": "stderr",
     "output_type": "stream",
     "text": [
      "/tmp/ipykernel_30/2484108848.py:2: SettingWithCopyWarning: \n",
      "A value is trying to be set on a copy of a slice from a DataFrame.\n",
      "Try using .loc[row_indexer,col_indexer] = value instead\n",
      "\n",
      "See the caveats in the documentation: https://pandas.pydata.org/pandas-docs/stable/user_guide/indexing.html#returning-a-view-versus-a-copy\n",
      "  features_test[numeric] = scaler.transform(features_test[numeric])\n",
      "/opt/conda/lib/python3.9/site-packages/pandas/core/indexing.py:1738: SettingWithCopyWarning: \n",
      "A value is trying to be set on a copy of a slice from a DataFrame.\n",
      "Try using .loc[row_indexer,col_indexer] = value instead\n",
      "\n",
      "See the caveats in the documentation: https://pandas.pydata.org/pandas-docs/stable/user_guide/indexing.html#returning-a-view-versus-a-copy\n",
      "  self._setitem_single_column(loc, value[:, i].tolist(), pi)\n"
     ]
    },
    {
     "data": {
      "text/html": [
       "<div>\n",
       "<style scoped>\n",
       "    .dataframe tbody tr th:only-of-type {\n",
       "        vertical-align: middle;\n",
       "    }\n",
       "\n",
       "    .dataframe tbody tr th {\n",
       "        vertical-align: top;\n",
       "    }\n",
       "\n",
       "    .dataframe thead th {\n",
       "        text-align: right;\n",
       "    }\n",
       "</style>\n",
       "<table border=\"1\" class=\"dataframe\">\n",
       "  <thead>\n",
       "    <tr style=\"text-align: right;\">\n",
       "      <th></th>\n",
       "      <th>CreditScore</th>\n",
       "      <th>Age</th>\n",
       "      <th>Tenure</th>\n",
       "      <th>Balance</th>\n",
       "      <th>NumOfProducts</th>\n",
       "      <th>HasCrCard</th>\n",
       "      <th>IsActiveMember</th>\n",
       "      <th>EstimatedSalary</th>\n",
       "      <th>Geography_Germany</th>\n",
       "      <th>Geography_Spain</th>\n",
       "      <th>Gender_Male</th>\n",
       "    </tr>\n",
       "  </thead>\n",
       "  <tbody>\n",
       "    <tr>\n",
       "      <th>5802</th>\n",
       "      <td>-1.581095</td>\n",
       "      <td>-0.368262</td>\n",
       "      <td>1.727671</td>\n",
       "      <td>-1.218998</td>\n",
       "      <td>0.787562</td>\n",
       "      <td>1</td>\n",
       "      <td>0</td>\n",
       "      <td>-1.544837</td>\n",
       "      <td>0</td>\n",
       "      <td>0</td>\n",
       "      <td>1</td>\n",
       "    </tr>\n",
       "    <tr>\n",
       "      <th>8473</th>\n",
       "      <td>1.256772</td>\n",
       "      <td>-0.559942</td>\n",
       "      <td>0.335549</td>\n",
       "      <td>-1.218998</td>\n",
       "      <td>0.787562</td>\n",
       "      <td>1</td>\n",
       "      <td>1</td>\n",
       "      <td>0.460827</td>\n",
       "      <td>0</td>\n",
       "      <td>0</td>\n",
       "      <td>0</td>\n",
       "    </tr>\n",
       "    <tr>\n",
       "      <th>7402</th>\n",
       "      <td>-0.031263</td>\n",
       "      <td>-0.559942</td>\n",
       "      <td>0.683579</td>\n",
       "      <td>0.726587</td>\n",
       "      <td>0.787562</td>\n",
       "      <td>1</td>\n",
       "      <td>0</td>\n",
       "      <td>-0.389259</td>\n",
       "      <td>0</td>\n",
       "      <td>1</td>\n",
       "      <td>1</td>\n",
       "    </tr>\n",
       "    <tr>\n",
       "      <th>3590</th>\n",
       "      <td>0.282892</td>\n",
       "      <td>-0.176582</td>\n",
       "      <td>-0.708543</td>\n",
       "      <td>0.198761</td>\n",
       "      <td>-0.910478</td>\n",
       "      <td>0</td>\n",
       "      <td>1</td>\n",
       "      <td>0.318572</td>\n",
       "      <td>0</td>\n",
       "      <td>0</td>\n",
       "      <td>1</td>\n",
       "    </tr>\n",
       "    <tr>\n",
       "      <th>4453</th>\n",
       "      <td>1.665174</td>\n",
       "      <td>-0.559942</td>\n",
       "      <td>1.031610</td>\n",
       "      <td>1.156514</td>\n",
       "      <td>-0.910478</td>\n",
       "      <td>0</td>\n",
       "      <td>0</td>\n",
       "      <td>1.730711</td>\n",
       "      <td>1</td>\n",
       "      <td>0</td>\n",
       "      <td>1</td>\n",
       "    </tr>\n",
       "  </tbody>\n",
       "</table>\n",
       "</div>"
      ],
      "text/plain": [
       "      CreditScore       Age    Tenure   Balance  NumOfProducts  HasCrCard  \\\n",
       "5802    -1.581095 -0.368262  1.727671 -1.218998       0.787562          1   \n",
       "8473     1.256772 -0.559942  0.335549 -1.218998       0.787562          1   \n",
       "7402    -0.031263 -0.559942  0.683579  0.726587       0.787562          1   \n",
       "3590     0.282892 -0.176582 -0.708543  0.198761      -0.910478          0   \n",
       "4453     1.665174 -0.559942  1.031610  1.156514      -0.910478          0   \n",
       "\n",
       "      IsActiveMember  EstimatedSalary  Geography_Germany  Geography_Spain  \\\n",
       "5802               0        -1.544837                  0                0   \n",
       "8473               1         0.460827                  0                0   \n",
       "7402               0        -0.389259                  0                1   \n",
       "3590               1         0.318572                  0                0   \n",
       "4453               0         1.730711                  1                0   \n",
       "\n",
       "      Gender_Male  \n",
       "5802            1  \n",
       "8473            0  \n",
       "7402            1  \n",
       "3590            1  \n",
       "4453            1  "
      ]
     },
     "execution_count": 351,
     "metadata": {},
     "output_type": "execute_result"
    }
   ],
   "source": [
    "# Масштабируем численные признаки тестовой выборки \n",
    "features_test[numeric] = scaler.transform(features_test[numeric])\n",
    "features_test.head()"
   ]
  },
  {
   "cell_type": "markdown",
   "id": "6a23abf9",
   "metadata": {},
   "source": [
    "После стандартизации численных признаков каждой выборки мы вывели первые 5 строк для подтверждения, что все преобразования выполнены. Следующим шагом переходим к исследованию задачи."
   ]
  },
  {
   "cell_type": "markdown",
   "id": "07bb40ae",
   "metadata": {},
   "source": [
    "## Исследование задачи"
   ]
  },
  {
   "cell_type": "markdown",
   "id": "e1ac4ead",
   "metadata": {},
   "source": [
    "**Обучение моделей**"
   ]
  },
  {
   "cell_type": "markdown",
   "id": "39a0b8c1",
   "metadata": {},
   "source": [
    "Для исследования задачи будем обучать три модели: DecisionTreeClassifier (DTC), RandomForestClassifier (RFC), LogisticRegression (LgR). Все требуемые библиотеки импортировали в разделе 1, включая метрики для расчета точности моделей (accuracy_score, confusion_matrix, recall_score, precision_score, f1_score, roc_auc_score, roc_curve)."
   ]
  },
  {
   "cell_type": "code",
   "execution_count": 352,
   "id": "8d678da8",
   "metadata": {},
   "outputs": [
    {
     "name": "stdout",
     "output_type": "stream",
     "text": [
      "Accuracy:Дерево решений 0.788825340959085 Accuracy:Случайный лес  0.8649362076550814 Accuracy:Логистческая регрессия 0.8139023317201936\n"
     ]
    }
   ],
   "source": [
    "# Создадим функцию all_models_accuracy для обучения всех трех моделей, а также для отображения их точности\n",
    "def all_models_accuracy(features_train, target_train, features_valid, target_valid):\n",
    "    model_DTC = DecisionTreeClassifier(random_state=12345)\n",
    "    DTC_score = model_DTC.fit(features_train, target_train).score(features_valid, target_valid)\n",
    "    \n",
    "    model_RFC = RandomForestClassifier(random_state=12345, n_estimators = 100)\n",
    "    RFC_score = model_RFC.fit(features_train, target_train).score(features_valid, target_valid)\n",
    "    \n",
    "    model_LgR = LogisticRegression(random_state=12345, solver = 'liblinear')\n",
    "    LgR_score = model_LgR.fit(features_train, target_train).score(features_valid, target_valid)\n",
    "    print(\"Accuracy:\" \"Дерево решений\", DTC_score, \"Accuracy:\" \"Случайный лес \", RFC_score, \"Accuracy:\" \"Логистческая регрессия\", LgR_score)\n",
    "\n",
    "all_models_accuracy(features_train, target_train, features_valid, target_valid)"
   ]
  },
  {
   "cell_type": "code",
   "execution_count": 353,
   "id": "38162d04",
   "metadata": {},
   "outputs": [
    {
     "data": {
      "text/plain": [
       "0    0.79604\n",
       "1    0.20396\n",
       "Name: Exited, dtype: float64"
      ]
     },
     "execution_count": 353,
     "metadata": {},
     "output_type": "execute_result"
    }
   ],
   "source": [
    "# Проверяем баланс классов обучающей выборки\n",
    "target_train.value_counts(normalize = True)"
   ]
  },
  {
   "cell_type": "code",
   "execution_count": 354,
   "id": "0af49dc9",
   "metadata": {},
   "outputs": [
    {
     "data": {
      "text/plain": [
       "0    0.792345\n",
       "1    0.207655\n",
       "Name: Exited, dtype: float64"
      ]
     },
     "execution_count": 354,
     "metadata": {},
     "output_type": "execute_result"
    }
   ],
   "source": [
    "# Проверяем баланс классов валидационной выборки\n",
    "target_valid.value_counts(normalize = True)"
   ]
  },
  {
   "cell_type": "markdown",
   "id": "b9c13187",
   "metadata": {},
   "source": [
    "Можно сделать вывод, что у обучающией и валидационной выборок присутствует заметный дисбаланс класов. Ответы 0 получаются примерно в 80%, а ответы 1 в примерно 20%\n",
    "Можно предположить, что результаты предсказаний моделей будут сильно склоняться к одному варианту ответов."
   ]
  },
  {
   "cell_type": "markdown",
   "id": "17e9bbed",
   "metadata": {},
   "source": [
    "**Проверяем адекватность моделей**"
   ]
  },
  {
   "cell_type": "code",
   "execution_count": 355,
   "id": "c4bc96dc",
   "metadata": {},
   "outputs": [
    {
     "name": "stdout",
     "output_type": "stream",
     "text": [
      "Доли ответов:дерево решений 0    0.789705\n",
      "1    0.210295\n",
      "dtype: float64 случайный лес  0    0.876375\n",
      "1    0.123625\n",
      "dtype: float64 логистческая регрессия 0    0.924769\n",
      "1    0.075231\n",
      "dtype: float64"
     ]
    }
   ],
   "source": [
    "# Создадим функцию all_models_share для обучения всех трех моделей, а также для отображения их точности\n",
    "\n",
    "def all_models_share(features_train, target_train, features_valid, target_valid):\n",
    "    model_DTC = DecisionTreeClassifier(random_state=12345)\n",
    "    model_DTC.fit(features_train, target_train)\n",
    "    DTC_share = pd.Series(model_DTC.predict(features_valid)).value_counts(normalize = 1)\n",
    "    \n",
    "    model_RFC = RandomForestClassifier(random_state=12345, n_estimators = 100)\n",
    "    model_RFC.fit(features_train, target_train)\n",
    "    RFC_share = pd.Series(model_RFC.predict(features_valid)).value_counts(normalize = 1)\n",
    "    \n",
    "    model_LgR = LogisticRegression(random_state=12345, solver = 'liblinear')\n",
    "    model_LgR.fit(features_train, target_train)\n",
    "    LgR_share = pd.Series(model_LgR.predict(features_valid)).value_counts(normalize = 1)\n",
    "       \n",
    "    print(\"Доли ответов:\" \"дерево решений\", DTC_share, \"случайный лес \", RFC_share, \"логистческая регрессия\", LgR_share, end='')\n",
    "\n",
    "all_models_share(features_train, target_train, features_valid, target_valid)"
   ]
  },
  {
   "cell_type": "markdown",
   "id": "668a8420",
   "metadata": {},
   "source": [
    "Логистичесая регрессия показывает самую высокую точность, но данная модель выдает резудлтат 0 в 92% \n",
    "Необходимо сравнить качество предсказаний с константной моделью. За константу примем пример 0."
   ]
  },
  {
   "cell_type": "code",
   "execution_count": 356,
   "id": "2d766a10",
   "metadata": {},
   "outputs": [
    {
     "data": {
      "text/plain": [
       "(2273,)"
      ]
     },
     "execution_count": 356,
     "metadata": {},
     "output_type": "execute_result"
    }
   ],
   "source": [
    "# Создаем константную модель\n",
    "target_predict_constant = pd.Series([0]*len(target_valid))\n",
    "target_predict_constant.shape"
   ]
  },
  {
   "cell_type": "code",
   "execution_count": 357,
   "id": "fbe183c0",
   "metadata": {},
   "outputs": [
    {
     "data": {
      "text/plain": [
       "0.7923449186097669"
      ]
     },
     "execution_count": 357,
     "metadata": {},
     "output_type": "execute_result"
    }
   ],
   "source": [
    "# Расчитываем точность предсказаний константной модели\n",
    "accuracy_score_constant = accuracy_score(target_valid, target_predict_constant)\n",
    "accuracy_score_constant"
   ]
  },
  {
   "cell_type": "markdown",
   "id": "7be85257",
   "metadata": {},
   "source": [
    "**Accuracy моделей:**\n",
    "- дерево решений 0.7888 \n",
    "- случайный лес 0.8649\n",
    "- логистческая регрессия 0.8139\n",
    "- Точность константной модели: 0.7923\n",
    "\n",
    "Точность всех моделей схожа с точностью константной, что указывает на дисбаланс классов. Классы несбалансированны, когда их соотношение далеко от 1:1.\n",
    "\n",
    "Чтобы разобраться подбробнее, нам поможет матрица ошибок для каждой модели."
   ]
  },
  {
   "cell_type": "markdown",
   "id": "38f7cd5b",
   "metadata": {},
   "source": [
    "**Матрица ошибок для DecisionTreeClassifier**"
   ]
  },
  {
   "cell_type": "code",
   "execution_count": 358,
   "id": "004460f1",
   "metadata": {},
   "outputs": [
    {
     "data": {
      "text/plain": [
       "array([[1558,  243],\n",
       "       [ 237,  235]])"
      ]
     },
     "execution_count": 358,
     "metadata": {},
     "output_type": "execute_result"
    }
   ],
   "source": [
    "# Создаем матрицу ошибок для DTC\n",
    "model_DTC = DecisionTreeClassifier(random_state=12345)\n",
    "model_DTC.fit(features_train, target_train)\n",
    "DTC_prediction = model_DTC.predict(features_valid)\n",
    "DTC_probabilities_valid = model_DTC.predict_proba(features_valid)\n",
    "DTC_probabilities_one_valid = DTC_probabilities_valid[:, 1]\n",
    "confusion_matrix(target_valid, DTC_prediction)\n"
   ]
  },
  {
   "cell_type": "markdown",
   "id": "50c162ef",
   "metadata": {},
   "source": [
    "TN = 1558  FP = 243\n",
    "FN = 237   TP = 235\n",
    "Дерево решений склонно выдавать очень высокое количество истинно отрицательных ответов (TN). Изучим полноту, точность и F1-меру"
   ]
  },
  {
   "cell_type": "code",
   "execution_count": 359,
   "id": "43a6fc22",
   "metadata": {},
   "outputs": [
    {
     "name": "stdout",
     "output_type": "stream",
     "text": [
      "Полнота 0.4978813559322034\n",
      "Точность 0.4916317991631799\n",
      "F1-мера 0.4947368421052632\n",
      "AUC-ROC 0.681478157144336\n"
     ]
    }
   ],
   "source": [
    "# Создаем функцию для вывода всех параметров\n",
    "def rec_prec_f1(target_valid, prediction, probabilities_one_valid):\n",
    "    print(\"Полнота\" , recall_score(target_valid, prediction))\n",
    "    print(\"Точность\", precision_score(target_valid, prediction))\n",
    "    print(\"F1-мера\", f1_score(target_valid, prediction))\n",
    "    print(\"AUC-ROC\", roc_auc_score(target_valid, DTC_probabilities_one_valid))\n",
    "\n",
    "# Полнота, точность и F1-мера для DTC\n",
    "rec_prec_f1(target_valid, DTC_prediction, DTC_probabilities_one_valid)"
   ]
  },
  {
   "cell_type": "markdown",
   "id": "19f9770f",
   "metadata": {},
   "source": [
    "Низкое значние F1- меры свидетельствует о низком качестве модели, проблема в точности."
   ]
  },
  {
   "cell_type": "markdown",
   "id": "3cca2cdb",
   "metadata": {},
   "source": [
    "**Матрица ошибок для RandomForestClassifier**"
   ]
  },
  {
   "cell_type": "code",
   "execution_count": 360,
   "id": "3360300b",
   "metadata": {},
   "outputs": [
    {
     "data": {
      "text/plain": [
       "array([[1743,   58],\n",
       "       [ 249,  223]])"
      ]
     },
     "execution_count": 360,
     "metadata": {},
     "output_type": "execute_result"
    }
   ],
   "source": [
    "# Создаем матрицу ошибок для RFC\n",
    "model_RFC = RandomForestClassifier(random_state=12345)\n",
    "model_RFC.fit(features_train, target_train)\n",
    "RFC_prediction = model_RFC.predict(features_valid)\n",
    "RFC_probabilities_valid = model_RFC.predict_proba(features_valid)\n",
    "RFC_probabilities_one_valid = RFC_probabilities_valid[:, 1]\n",
    "confusion_matrix(target_valid, RFC_prediction)\n"
   ]
  },
  {
   "cell_type": "markdown",
   "id": "265732a3",
   "metadata": {},
   "source": [
    "TN = 1743 FP = 58 FN = 249 TP = 223 У случайного леса идеентичная ситуация, очень высокое количество истинно отрицательных ответов (TN). Изучим полноту, точность и F1-меру"
   ]
  },
  {
   "cell_type": "code",
   "execution_count": 361,
   "id": "c24a0556",
   "metadata": {},
   "outputs": [
    {
     "name": "stdout",
     "output_type": "stream",
     "text": [
      "Полнота 0.4724576271186441\n",
      "Точность 0.7935943060498221\n",
      "F1-мера 0.5922974767596282\n",
      "AUC-ROC 0.681478157144336\n"
     ]
    }
   ],
   "source": [
    "# Полнота, точность и F1-мера для RFC\n",
    "rec_prec_f1(target_valid, RFC_prediction, RFC_probabilities_one_valid)"
   ]
  },
  {
   "cell_type": "markdown",
   "id": "616a8d58",
   "metadata": {},
   "source": [
    "У Случайного леса показатели немного выше, чем у Дерева решений, однако все равно F1 достаточно низок, что указывает на низкое качество модели."
   ]
  },
  {
   "cell_type": "markdown",
   "id": "b8e71a2e",
   "metadata": {},
   "source": [
    "**Матрица ошибок для LogisticRegression**"
   ]
  },
  {
   "cell_type": "code",
   "execution_count": 362,
   "id": "5ddfaf20",
   "metadata": {},
   "outputs": [
    {
     "data": {
      "text/plain": [
       "array([[1740,   61],\n",
       "       [ 362,  110]])"
      ]
     },
     "execution_count": 362,
     "metadata": {},
     "output_type": "execute_result"
    }
   ],
   "source": [
    "# Создаем матрицу ошибок для LgR\n",
    "model_LgR = LogisticRegression(random_state=12345, solver = 'liblinear')\n",
    "model_LgR.fit(features_train, target_train)\n",
    "LgR_prediction = model_LgR.predict(features_valid)\n",
    "confusion_matrix(target_valid, LgR_prediction)"
   ]
  },
  {
   "cell_type": "markdown",
   "id": "68fc7e5a",
   "metadata": {},
   "source": [
    "TN = 1740 FP = 61 FN = 362 TP = 110 Похожая ситуация, очень высокое количество истинно отрицательных ответов (TN).\n"
   ]
  },
  {
   "cell_type": "markdown",
   "id": "0e5fb281",
   "metadata": {},
   "source": [
    "Для логистической регрессии также расчитаем метрику AUC-ROC и построим график roc_curve (roc кривая)."
   ]
  },
  {
   "cell_type": "code",
   "execution_count": 363,
   "id": "3e94321e",
   "metadata": {},
   "outputs": [
    {
     "data": {
      "text/plain": [
       "0.7736885816730819"
      ]
     },
     "execution_count": 363,
     "metadata": {},
     "output_type": "execute_result"
    }
   ],
   "source": [
    "LgR_probabilities_one_valid = model_LgR.predict_proba(features_valid)[:, 1]\n",
    "auc_roc_LgR = roc_auc_score(target_valid, LgR_probabilities_one_valid)\n",
    "auc_roc_LgR"
   ]
  },
  {
   "cell_type": "markdown",
   "id": "442c745f",
   "metadata": {},
   "source": [
    "Показатель AUC_ROC у Логистической Регрессии лучше чем у других моделей."
   ]
  },
  {
   "cell_type": "code",
   "execution_count": 364,
   "id": "7b59d713",
   "metadata": {},
   "outputs": [
    {
     "data": {
      "image/png": "[encoded data removed]",
      "text/plain": [
       "<Figure size 432x288 with 1 Axes>"
      ]
     },
     "metadata": {
      "needs_background": "light"
     },
     "output_type": "display_data"
    }
   ],
   "source": [
    "# Строим график roc кривой\n",
    "fpr, tpr, thresholds = roc_curve(target_valid, LgR_probabilities_one_valid) \n",
    "\n",
    "plt.figure()\n",
    "plt.plot(fpr, tpr)\n",
    "plt.plot([0, 1], [0, 1], linestyle='--')\n",
    "plt.xlim([0.0, 1.0])\n",
    "plt.ylim([0.0, 1.0])\n",
    "plt.xlabel('False Positive Rate')\n",
    "plt.ylabel('True Positive Rate')\n",
    "plt.title('ROC-кривая')\n",
    "plt.show()"
   ]
  },
  {
   "cell_type": "code",
   "execution_count": 365,
   "id": "fcd2c438",
   "metadata": {},
   "outputs": [
    {
     "name": "stdout",
     "output_type": "stream",
     "text": [
      "score 0.7021557413110426\n",
      "AUC-ROC 0.7758483987238729\n"
     ]
    },
    {
     "data": {
      "image/png": "[encoded data removed]",
      "text/plain": [
       "<Figure size 432x288 with 1 Axes>"
      ]
     },
     "metadata": {
      "needs_background": "light"
     },
     "output_type": "display_data"
    }
   ],
   "source": [
    "# Попробуем обучить логистическую регресию сбалансировав классы, уазав параметр class_weight='balanced'\n",
    "model_LgR = LogisticRegression(random_state=12345, solver = 'liblinear', class_weight='balanced')\n",
    "model_LgR.fit(features_train, target_train)\n",
    "LgR_probabilities_one_valid_class_weight = model_LgR.predict_proba(features_valid)[:, 1]\n",
    "print(\"score\", model_LgR.score(features_valid, target_valid))\n",
    "print(\"AUC-ROC\", roc_auc_score(target_valid, LgR_probabilities_one_valid_class_weight))\n",
    "\n",
    "fpr, tpr, thresholds = roc_curve(target_valid, LgR_probabilities_one_valid_class_weight) \n",
    "plt.figure()\n",
    "plt.plot(fpr, tpr)\n",
    "plt.plot([0, 1], [0, 1], linestyle='--')\n",
    "plt.xlim([0.0, 1.0])\n",
    "plt.ylim([0.0, 1.0])\n",
    "plt.xlabel('False Positive Rate')\n",
    "plt.ylabel('True Positive Rate')\n",
    "plt.title('ROC-кривая')\n",
    "plt.show()"
   ]
  },
  {
   "cell_type": "markdown",
   "id": "0346c471",
   "metadata": {},
   "source": [
    "Показатели сильно не изменились.\n",
    "Логистическая регрессия выдает высокий процент истинно ложных предсказаний.\n",
    "Налицо несбалансированность. Перейдем к формированию сбалансированных выборок."
   ]
  },
  {
   "cell_type": "markdown",
   "id": "4e00c73e",
   "metadata": {},
   "source": [
    "## Борьба с дисбалансом"
   ]
  },
  {
   "cell_type": "markdown",
   "id": "bc668231",
   "metadata": {},
   "source": [
    "**Применяем подход upsampling**\n",
    "\n",
    "Как мы выяснили ранее в нашей выборке истинно ложных ответов около 80%, истинно положитительных около 20%.\n",
    "Нам необходмо увеличить количество истинно положительных ответов в 4 раза для достижения баланса."
   ]
  },
  {
   "cell_type": "code",
   "execution_count": 366,
   "id": "fee30620",
   "metadata": {},
   "outputs": [
    {
     "data": {
      "text/plain": [
       "0    0.79604\n",
       "1    0.20396\n",
       "Name: Exited, dtype: float64"
      ]
     },
     "execution_count": 366,
     "metadata": {},
     "output_type": "execute_result"
    }
   ],
   "source": [
    "# Ознакомимся с первоначальным распределением классов\n",
    "target_train.value_counts(normalize = True)"
   ]
  },
  {
   "cell_type": "code",
   "execution_count": 367,
   "id": "b5b8fa42",
   "metadata": {},
   "outputs": [
    {
     "data": {
      "text/plain": [
       "(4545,)"
      ]
     },
     "execution_count": 367,
     "metadata": {},
     "output_type": "execute_result"
    }
   ],
   "source": [
    "target_train.shape"
   ]
  },
  {
   "cell_type": "code",
   "execution_count": 368,
   "id": "bb8144ec",
   "metadata": {},
   "outputs": [
    {
     "data": {
      "text/plain": [
       "<AxesSubplot:ylabel='Frequency'>"
      ]
     },
     "execution_count": 368,
     "metadata": {},
     "output_type": "execute_result"
    },
    {
     "data": {
      "image/png": "[encoded data removed]",
      "text/plain": [
       "<Figure size 72x72 with 1 Axes>"
      ]
     },
     "metadata": {
      "needs_background": "light"
     },
     "output_type": "display_data"
    }
   ],
   "source": [
    "target_train.plot(kind ='hist', bins=2, figsize=(1,1))"
   ]
  },
  {
   "cell_type": "markdown",
   "id": "34658fcf",
   "metadata": {},
   "source": [
    "Наглядно виден дисбаланс."
   ]
  },
  {
   "cell_type": "code",
   "execution_count": 369,
   "id": "862994b5",
   "metadata": {},
   "outputs": [],
   "source": [
    "# Создаем функцию для увеличения класса в выборке \n",
    "def upsample(features, target, repeat, upsampled_сlass):\n",
    "    features_zeros = features[target == 0]\n",
    "    features_ones = features[target == 1]\n",
    "    target_zeros = target[target == 0]\n",
    "    target_ones = target[target == 1]\n",
    "    \n",
    "    if upsampled_сlass == 0:\n",
    "        features_upsampled = pd.concat([features_zeros]* repeat + [features_ones] )\n",
    "        target_upsampled = pd.concat([target_zeros]* repeat + [target_ones] )\n",
    "        features_upsampled, target_upsampled = shuffle(\n",
    "        features_upsampled, target_upsampled, random_state=12345)\n",
    "        \n",
    "    elif upsampled_сlass == 1:\n",
    "        features_upsampled = pd.concat([features_zeros] + [features_ones] * repeat)\n",
    "        target_upsampled = pd.concat([target_zeros] + [target_ones] * repeat)\n",
    "        features_upsampled, target_upsampled = shuffle(\n",
    "        features_upsampled, target_upsampled, random_state=12345)\n",
    "    else:\n",
    "        features_upsampled = 0\n",
    "        target_upsampled = 0  \n",
    "        \n",
    "        \n",
    "       \n",
    "    return features_upsampled, target_upsampled\n",
    "  "
   ]
  },
  {
   "cell_type": "code",
   "execution_count": 172,
   "id": "b38e2898",
   "metadata": {},
   "outputs": [],
   "source": [
    "#Протестируем функцию (верное значение)\n",
    "# features_train_upsampled, target_train_upsampled = upsample(features_train, target_train, 4, 0)\n",
    "#print(target_train_upsampled.value_counts(normalize = 1))\n",
    "#print(target_train_upsampled.shape)"
   ]
  },
  {
   "cell_type": "code",
   "execution_count": 173,
   "id": "9c377bf6",
   "metadata": {},
   "outputs": [],
   "source": [
    "#Протестируем функцию (верное значение)\n",
    "#features_train_upsampled, target_train_upsampled = upsample(features_train, target_train, 4, 3)\n",
    "#features_train_upsampled"
   ]
  },
  {
   "cell_type": "code",
   "execution_count": 370,
   "id": "6dcecf14",
   "metadata": {},
   "outputs": [
    {
     "name": "stdout",
     "output_type": "stream",
     "text": [
      "1    0.506143\n",
      "0    0.493857\n",
      "Name: Exited, dtype: float64\n",
      "(7326,)\n"
     ]
    }
   ],
   "source": [
    "#применим функцию upsample \n",
    "#увеличим количество положительных ответов в 4 раза\n",
    "features_train_upsampled, target_train_upsampled = upsample(features_train, target_train, 4, 1)\n",
    "print(target_train_upsampled.value_counts(normalize = True))\n",
    "print(target_train_upsampled.shape)"
   ]
  },
  {
   "cell_type": "code",
   "execution_count": 371,
   "id": "cf57195d",
   "metadata": {},
   "outputs": [
    {
     "data": {
      "text/plain": [
       "<AxesSubplot:ylabel='Frequency'>"
      ]
     },
     "execution_count": 371,
     "metadata": {},
     "output_type": "execute_result"
    },
    {
     "data": {
      "image/png": "[encoded data removed]",
      "text/plain": [
       "<Figure size 72x72 with 1 Axes>"
      ]
     },
     "metadata": {
      "needs_background": "light"
     },
     "output_type": "display_data"
    }
   ],
   "source": [
    "target_train_upsampled.plot(kind ='hist', bins=2, figsize=(1,1))"
   ]
  },
  {
   "cell_type": "markdown",
   "id": "744c2148",
   "metadata": {},
   "source": [
    "Теперь данные сбалансированы. Перейдем к обучению моделей на новых данных."
   ]
  },
  {
   "cell_type": "markdown",
   "id": "7b31644f",
   "metadata": {},
   "source": [
    "**Обучение моделей на сбаланированной выборке**"
   ]
  },
  {
   "cell_type": "markdown",
   "id": "171cea9c",
   "metadata": {},
   "source": [
    "Точность (accuracy_score)"
   ]
  },
  {
   "cell_type": "code",
   "execution_count": 372,
   "id": "8c1ea5de",
   "metadata": {},
   "outputs": [
    {
     "name": "stdout",
     "output_type": "stream",
     "text": [
      "Accuracy:Дерево решений 0.788825340959085 Accuracy:Случайный лес  0.8649362076550814 Accuracy:Логистческая регрессия 0.8139023317201936\n"
     ]
    }
   ],
   "source": [
    "# Accuracy моделей на выборке с дисбалансом\n",
    "all_models_accuracy(features_train, target_train, features_valid, target_valid)"
   ]
  },
  {
   "cell_type": "code",
   "execution_count": 373,
   "id": "0ca5fb59",
   "metadata": {},
   "outputs": [
    {
     "name": "stdout",
     "output_type": "stream",
     "text": [
      "Accuracy:Дерево решений 0.798064232292125 Accuracy:Случайный лес  0.8526176858776947 Accuracy:Логистческая регрессия 0.7003959524857017\n"
     ]
    }
   ],
   "source": [
    "# Accuracy моделей на сбалансированной выборке\n",
    "all_models_accuracy(features_train_upsampled, target_train_upsampled, features_valid, target_valid)"
   ]
  },
  {
   "cell_type": "markdown",
   "id": "1cbae73a",
   "metadata": {},
   "source": [
    "Точность моделей изменились незначительно, причем в меньшую сторону, но проверим изменилось ли качество ответов."
   ]
  },
  {
   "cell_type": "markdown",
   "id": "e9888702",
   "metadata": {},
   "source": [
    "Качество предсказаний"
   ]
  },
  {
   "cell_type": "code",
   "execution_count": 374,
   "id": "6aaad3c9",
   "metadata": {},
   "outputs": [
    {
     "name": "stdout",
     "output_type": "stream",
     "text": [
      "Полнота 0.4809322033898305\n",
      "Точность 0.5147392290249433\n",
      "F1-мера 0.49726177437020813\n",
      "AUC-ROC 0.681478157144336\n"
     ]
    }
   ],
   "source": [
    "# Решающее дерево\n",
    "model_DTC_upsampled = DecisionTreeClassifier(random_state=12345)\n",
    "model_DTC_upsampled.fit(features_train_upsampled, target_train_upsampled)\n",
    "DTC_prediction_upsampled = model_DTC_upsampled.predict(features_valid)\n",
    "rec_prec_f1(target_valid, DTC_prediction_upsampled, DTC_probabilities_one_valid)\n"
   ]
  },
  {
   "cell_type": "code",
   "execution_count": 375,
   "id": "2d04a5e7",
   "metadata": {},
   "outputs": [
    {
     "name": "stdout",
     "output_type": "stream",
     "text": [
      "Полнота 0.538135593220339\n",
      "Точность 0.6846361185983828\n",
      "F1-мера 0.6026097271648873\n",
      "AUC-ROC 0.681478157144336\n"
     ]
    }
   ],
   "source": [
    "# Случайный лес\n",
    "model_RFC_upsampled = RandomForestClassifier(random_state=12345, n_estimators = 100)\n",
    "model_RFC_upsampled.fit(features_train_upsampled, target_train_upsampled)\n",
    "RFC_prediction_upsampled = model_RFC_upsampled.predict(features_valid)\n",
    "rec_prec_f1(target_valid, RFC_prediction_upsampled, RFC_probabilities_one_valid)"
   ]
  },
  {
   "cell_type": "code",
   "execution_count": 376,
   "id": "d2bcd6b0",
   "metadata": {},
   "outputs": [
    {
     "name": "stdout",
     "output_type": "stream",
     "text": [
      "Полнота 0.711864406779661\n",
      "Точность 0.3813847900113507\n",
      "F1-мера 0.4966740576496675\n",
      "AUC-ROC 0.681478157144336\n"
     ]
    }
   ],
   "source": [
    "# Логистическая регрессия\n",
    "model_LgR_upsampled = LogisticRegression(solver = 'liblinear')\n",
    "model_LgR_upsampled.fit(features_train_upsampled, target_train_upsampled)\n",
    "LgR_prediction_upsampled = model_LgR_upsampled.predict(features_valid)\n",
    "rec_prec_f1(target_valid, LgR_prediction_upsampled, LgR_probabilities_one_valid)"
   ]
  },
  {
   "cell_type": "markdown",
   "id": "babed588",
   "metadata": {},
   "source": [
    "Только показаели модели Случайного леса улучшились.\n",
    "Показатель F1 меры = 0.61, что выше требуемого значения.\n",
    "Попробуем улучшить модель путем изменения параметров."
   ]
  },
  {
   "cell_type": "markdown",
   "id": "c69ad830",
   "metadata": {},
   "source": [
    "Сделаем несколько попыток поиска наилучших надстроек гиперпараметров"
   ]
  },
  {
   "cell_type": "code",
   "execution_count": 184,
   "id": "69782922",
   "metadata": {},
   "outputs": [
    {
     "name": "stderr",
     "output_type": "stream",
     "text": [
      "100%|██████████| 1/1 [00:46<00:00, 46.82s/it]"
     ]
    },
    {
     "name": "stdout",
     "output_type": "stream",
     "text": [
      "Best Parameters:  {'max_depth': 50, 'min_samples_leaf': 2, 'min_samples_split': 10, 'n_estimators': 30}\n"
     ]
    },
    {
     "name": "stderr",
     "output_type": "stream",
     "text": [
      "\n"
     ]
    }
   ],
   "source": [
    "# Импортируем требуемую библиотеку GridSearchCV\n",
    "from sklearn.model_selection import GridSearchCV\n",
    "\n",
    "params = {'n_estimators': [10, 20, 30],\n",
    "          'max_depth': [10, 50, 100, None],\n",
    "          'min_samples_split': [2, 5, 10],\n",
    "          'min_samples_leaf': [1, 2, 4]}\n",
    "\n",
    "grid = GridSearchCV(model_RFC_upsampled, params, cv=5)\n",
    "\n",
    "# Поскольку модель достаточно долго прогоняла все параметры, применим способ, показывающий статус прогресса tqdm\n",
    "for search in tqdm([grid]):\n",
    "    search.fit(features_train, target_train)\n",
    "\n",
    "print(\"Best Parameters: \", grid.best_params_)"
   ]
  },
  {
   "cell_type": "code",
   "execution_count": 377,
   "id": "6882c534",
   "metadata": {},
   "outputs": [
    {
     "name": "stdout",
     "output_type": "stream",
     "text": [
      "Полнота 0.6016949152542372\n",
      "Точность 0.6120689655172413\n",
      "F1-мера 0.6068376068376068\n",
      "AUC-ROC 0.681478157144336\n"
     ]
    }
   ],
   "source": [
    "# Первая надстройка и использование параметров, найденных GridSearchCV\n",
    "model_RFC_finetuned = RandomForestClassifier(max_depth=50, \n",
    "                                             min_samples_leaf=2, \n",
    "                                             min_samples_split=10, \n",
    "                                             n_estimators=30)\n",
    "model_RFC_finetuned.fit(features_train_upsampled, target_train_upsampled)\n",
    "RFC_prediction_final = model_RFC_finetuned.predict(features_valid)\n",
    "rec_prec_f1(target_valid, RFC_prediction_final, RFC_probabilities_one_valid)"
   ]
  },
  {
   "cell_type": "code",
   "execution_count": 187,
   "id": "c030fd6a",
   "metadata": {},
   "outputs": [
    {
     "name": "stderr",
     "output_type": "stream",
     "text": [
      "100%|██████████| 1/1 [03:35<00:00, 215.86s/it]"
     ]
    },
    {
     "name": "stdout",
     "output_type": "stream",
     "text": [
      "Best Parameters:  {'bootstrap': False, 'max_depth': 50, 'max_features': 'log2', 'min_samples_leaf': 4, 'min_samples_split': 10, 'n_estimators': 20}\n"
     ]
    },
    {
     "name": "stderr",
     "output_type": "stream",
     "text": [
      "\n"
     ]
    }
   ],
   "source": [
    "# Добавляем параметры 'bootstrap' и 'max_features'\n",
    "\n",
    "params = {'n_estimators': [10, 20, 30],\n",
    "          'max_depth': [10, 50, 100, None],\n",
    "          'min_samples_split': [2, 5, 10],\n",
    "          'min_samples_leaf': [1, 2, 4],\n",
    "          'bootstrap': [True, False],\n",
    "          'max_features': ['log2', 'sqrt']}\n",
    "\n",
    "grid = GridSearchCV(model_RFC_upsampled, params, cv=5)\n",
    "\n",
    "# Поскольку модель достаточно долго прогоняла все параметры, применим способ, показывающий статус прогресса tqdm\n",
    "for search in tqdm([grid]):\n",
    "    search.fit(features_train, target_train)\n",
    "\n",
    "print(\"Best Parameters: \", grid.best_params_)"
   ]
  },
  {
   "cell_type": "code",
   "execution_count": 378,
   "id": "157caa45",
   "metadata": {},
   "outputs": [
    {
     "name": "stdout",
     "output_type": "stream",
     "text": [
      "Полнота 0.586864406779661\n",
      "Точность 0.6502347417840375\n",
      "F1-мера 0.6169265033407573\n",
      "AUC-ROC 0.681478157144336\n"
     ]
    }
   ],
   "source": [
    "# Вторая надстройка и использование параметров, найденных GridSearchCV\n",
    "# Добавили к списку параметров 'bootstrap' и 'max_features'\n",
    "model_RFC_finetuned = RandomForestClassifier(bootstrap=False, \n",
    "                                             max_depth=50, \n",
    "                                             max_features='log2', \n",
    "                                             min_samples_leaf=4, \n",
    "                                             min_samples_split=10, \n",
    "                                             n_estimators=20)\n",
    "model_RFC_finetuned.fit(features_train_upsampled, target_train_upsampled)\n",
    "RFC_prediction_final = model_RFC_finetuned.predict(features_valid)\n",
    "rec_prec_f1(target_valid, RFC_prediction_final, RFC_probabilities_one_valid)"
   ]
  },
  {
   "cell_type": "code",
   "execution_count": 189,
   "id": "35ee769a",
   "metadata": {},
   "outputs": [
    {
     "name": "stderr",
     "output_type": "stream",
     "text": [
      "100%|██████████| 1/1 [01:54<00:00, 114.91s/it]"
     ]
    },
    {
     "name": "stdout",
     "output_type": "stream",
     "text": [
      "Best Parameters:  {'bootstrap': False, 'max_depth': 10, 'max_features': 'log2', 'min_samples_leaf': 1, 'min_samples_split': 10, 'n_estimators': 30}\n"
     ]
    },
    {
     "name": "stderr",
     "output_type": "stream",
     "text": [
      "\n"
     ]
    }
   ],
   "source": [
    "# Изменяем параметр cv с 5 на 3\n",
    "\n",
    "params = {'n_estimators': [10, 20, 30],\n",
    "          'max_depth': [10, 50, 100, None],\n",
    "          'min_samples_split': [2, 5, 10],\n",
    "          'min_samples_leaf': [1, 2, 4],\n",
    "          'bootstrap': [True, False],\n",
    "          'max_features': ['log2', 'sqrt']}\n",
    "\n",
    "grid = GridSearchCV(model_RFC_upsampled, params, cv=3)\n",
    "\n",
    "# Поскольку модель достаточно долго прогоняла все параметры, применим способ, показывающий статус прогресса tqdm\n",
    "for search in tqdm([grid]):\n",
    "    search.fit(features_train, target_train)\n",
    "\n",
    "print(\"Best Parameters: \", grid.best_params_)"
   ]
  },
  {
   "cell_type": "code",
   "execution_count": 384,
   "id": "497f66fd",
   "metadata": {},
   "outputs": [
    {
     "name": "stdout",
     "output_type": "stream",
     "text": [
      "Полнота 0.635593220338983\n",
      "Точность 0.5725190839694656\n",
      "F1-мера 0.6024096385542168\n",
      "AUC-ROC 0.681478157144336\n"
     ]
    }
   ],
   "source": [
    "# Третья надстройка и использование параметров, найденных GridSearchCV\n",
    "# Изменили параметр cv с 5 на 3\n",
    "model_RFC_finetuned = RandomForestClassifier(bootstrap=False, \n",
    "                                             max_depth=10, \n",
    "                                             max_features='log2', \n",
    "                                             min_samples_leaf=1, \n",
    "                                             min_samples_split=10, \n",
    "                                             n_estimators=30)\n",
    "model_RFC_finetuned.fit(features_train_upsampled, target_train_upsampled)\n",
    "RFC_prediction_final = model_RFC_finetuned.predict(features_valid)\n",
    "rec_prec_f1(target_valid, RFC_prediction_final, RFC_probabilities_one_valid)"
   ]
  },
  {
   "cell_type": "markdown",
   "id": "2ddd2b5a",
   "metadata": {},
   "source": [
    "Принимаем решение использовать параметры, полученные в третьей попытке, а именно:\n",
    "- bootstrap=True\n",
    "- max_depth=100\n",
    "- max_features='sqrt'\n",
    "- min_samples_leaf=1\n",
    "- min_samples_split=10\n",
    "- n_estimators=20\n",
    "\n",
    "При данных гиперпараметрах мы получили наивысший уровень меры F1 = 0.6024"
   ]
  },
  {
   "cell_type": "markdown",
   "id": "15ce3eef",
   "metadata": {},
   "source": [
    "**Проверим финальную модель на адекватность**"
   ]
  },
  {
   "cell_type": "code",
   "execution_count": 385,
   "id": "3e3dc423",
   "metadata": {},
   "outputs": [
    {
     "data": {
      "text/plain": [
       "0    2273\n",
       "dtype: int64"
      ]
     },
     "execution_count": 385,
     "metadata": {},
     "output_type": "execute_result"
    }
   ],
   "source": [
    "# Создаем константную модель\n",
    "target_predict_constant = pd.Series([0]*len(target_valid))\n",
    "target_predict_constant.value_counts()"
   ]
  },
  {
   "cell_type": "code",
   "execution_count": 386,
   "id": "d89e9c95",
   "metadata": {},
   "outputs": [
    {
     "name": "stdout",
     "output_type": "stream",
     "text": [
      "accuracy_score константой модели: 0.7923449186097669\n",
      "accuracy_score финальной модели: 0.825780906291245\n",
      "AUC-ROC константой модели: 0.5\n",
      "AUC-ROC финальной модели: 0.7556089366547776\n"
     ]
    }
   ],
   "source": [
    "# Сравниваем показатель точности (accuracy_score) константной модели и финальной\n",
    "print('accuracy_score константой модели:', accuracy_score(target_valid, target_predict_constant))\n",
    "print('accuracy_score финальной модели:', accuracy_score(target_valid, RFC_prediction_final))\n",
    "#Дополнительно сравним AUC-ROC — единственный параметр подающийся сравнению, потому что константная подель содержит только негативные ответы\n",
    "print('AUC-ROC константой модели:', roc_auc_score(target_valid, target_predict_constant))\n",
    "print('AUC-ROC финальной модели:', roc_auc_score(target_valid, RFC_prediction_final))"
   ]
  },
  {
   "cell_type": "markdown",
   "id": "6202c284",
   "metadata": {},
   "source": [
    "Наша финальная модель показывает показатели accuracy и AUC-ROC выше, чем у константной модели.\n",
    "Можно считать, что наша модель прошла проверку на адекватность."
   ]
  },
  {
   "cell_type": "markdown",
   "id": "97a2c40b",
   "metadata": {},
   "source": [
    "**Вывод по результатам исследования**"
   ]
  },
  {
   "cell_type": "markdown",
   "id": "0bad7599",
   "metadata": {},
   "source": [
    "В изначальных данных наблюдался значительный дисбаланс (около 80% ответов целевого признака были истинно ложными и только 20% истинно положительными), из-за чего обученная на этих данных модель не проходила проверку на адекватность. Все модели не первоначальных данных характеризовались высокой степенью ошибок и низким качеством взвешенной величины (F1) — модели показывали низкие результаты точности и полноты.\n",
    "\n",
    "Мы устранили дисбаланс классов в обучающей выборки методом upsampling — увеличили количество значений позитивного класса в 4 раза. Так мы достигли баланса классов в обучеющей выборки: 1 = 0.50, 0 = 0.49.\n",
    "\n",
    "На новых данных все модели показали результат выше, чем на несбалансированной выборке. Мы получили следующие результаты:\n",
    "- Полнота 0.538135593220339\n",
    "- Точность 0.6846361185983828\n",
    "- F1-мера 0.6026097271648873\n",
    "- AUC-ROC 0.681478157144336\n",
    "\n",
    "Было принято решение попробовать улучшить рещультаты модели RandomForestClassifier путем автоматической подборки лучших гиперпараметров, используя GridSearchCV.\n",
    "\n",
    "Мы подбирали следующие гиперпараметры:\n",
    "- n_estimators': [10, 20, 30],\n",
    "- max_depth': [10, 50, 100, None],\n",
    "- min_samples_split': [2, 5, 10],\n",
    "- min_samples_leaf': [1, 2, 4],\n",
    "- bootstrap': [True, False],\n",
    "- max_features': ['log2', 'sqrt']}\n",
    "\n",
    "Финальные параметры выбранной модели RandomForestClassifier:\n",
    "- bootstrap=False, \n",
    "- max_depth=10, \n",
    "- max_features='log2', \n",
    "- min_samples_leaf=1, \n",
    "- min_samples_split=10\n",
    "- n_estimators=30\n",
    "\n",
    "При данных параметрах мы получили следующие результаты:\n",
    "- Полнота 0.635593220338983\n",
    "- Точность 0.5725190839694656\n",
    "- F1-мера 0.6024096385542168\n",
    "- AUC-ROC 0.681478157144336\n",
    "\n",
    "\n",
    "Финальная модель прошла проверку на адекватность в сравнении с контантной моделью: \n",
    "- accuracy_score константой модели: 0.7923449186097669\n",
    "- accuracy_score финальной модели: 0.825780906291245\n",
    "- AUC-ROC константой модели: 0.5\n",
    "- AUC-ROC финальной модели: 0.7556089366547776"
   ]
  },
  {
   "cell_type": "markdown",
   "id": "9be4c779",
   "metadata": {},
   "source": [
    "## Тестирование модели"
   ]
  },
  {
   "cell_type": "code",
   "execution_count": 387,
   "id": "8061b666",
   "metadata": {},
   "outputs": [
    {
     "name": "stdout",
     "output_type": "stream",
     "text": [
      "Полнота 0.6725274725274726\n",
      "Точность 0.5614678899082569\n",
      "F1-мера 0.612\n",
      "AUC-ROC 0.5004339994439004\n"
     ]
    }
   ],
   "source": [
    "model_RFC_finetuned\n",
    "RFC_prediction_final = model_RFC_finetuned.predict(features_test)\n",
    "rec_prec_f1(target_test, RFC_prediction_final, RFC_probabilities_one_valid)"
   ]
  },
  {
   "cell_type": "code",
   "execution_count": 388,
   "id": "c73dda70",
   "metadata": {},
   "outputs": [
    {
     "data": {
      "image/png": "[encoded data removed]",
      "text/plain": [
       "<Figure size 432x288 with 1 Axes>"
      ]
     },
     "metadata": {
      "needs_background": "light"
     },
     "output_type": "display_data"
    }
   ],
   "source": [
    "final_model_probabilities_one = model_LgR.predict_proba(features_test)[:, 1]\n",
    "\n",
    "fpr, tpr, thresholds = roc_curve(target_test, final_model_probabilities_one) \n",
    "\n",
    "plt.figure()\n",
    "plt.plot(fpr, tpr)\n",
    "plt.plot([0, 1], [0, 1], linestyle='--')\n",
    "plt.xlim([0.0, 1.0])\n",
    "plt.ylim([0.0, 1.0])\n",
    "plt.xlabel('False Positive Rate')\n",
    "plt.ylabel('True Positive Rate')\n",
    "plt.title('ROC-кривая')\n",
    "plt.show()"
   ]
  },
  {
   "cell_type": "markdown",
   "id": "740cea83",
   "metadata": {},
   "source": [
    "Выгрузка результата"
   ]
  },
  {
   "cell_type": "code",
   "execution_count": 389,
   "id": "8843b2cb",
   "metadata": {
    "scrolled": true
   },
   "outputs": [
    {
     "data": {
      "text/html": [
       "<div>\n",
       "<style scoped>\n",
       "    .dataframe tbody tr th:only-of-type {\n",
       "        vertical-align: middle;\n",
       "    }\n",
       "\n",
       "    .dataframe tbody tr th {\n",
       "        vertical-align: top;\n",
       "    }\n",
       "\n",
       "    .dataframe thead th {\n",
       "        text-align: right;\n",
       "    }\n",
       "</style>\n",
       "<table border=\"1\" class=\"dataframe\">\n",
       "  <thead>\n",
       "    <tr style=\"text-align: right;\">\n",
       "      <th></th>\n",
       "      <th>0</th>\n",
       "    </tr>\n",
       "  </thead>\n",
       "  <tbody>\n",
       "    <tr>\n",
       "      <th>0</th>\n",
       "      <td>0</td>\n",
       "    </tr>\n",
       "    <tr>\n",
       "      <th>1</th>\n",
       "      <td>0</td>\n",
       "    </tr>\n",
       "    <tr>\n",
       "      <th>2</th>\n",
       "      <td>0</td>\n",
       "    </tr>\n",
       "    <tr>\n",
       "      <th>3</th>\n",
       "      <td>0</td>\n",
       "    </tr>\n",
       "    <tr>\n",
       "      <th>4</th>\n",
       "      <td>0</td>\n",
       "    </tr>\n",
       "    <tr>\n",
       "      <th>5</th>\n",
       "      <td>0</td>\n",
       "    </tr>\n",
       "    <tr>\n",
       "      <th>6</th>\n",
       "      <td>0</td>\n",
       "    </tr>\n",
       "    <tr>\n",
       "      <th>7</th>\n",
       "      <td>1</td>\n",
       "    </tr>\n",
       "    <tr>\n",
       "      <th>8</th>\n",
       "      <td>0</td>\n",
       "    </tr>\n",
       "    <tr>\n",
       "      <th>9</th>\n",
       "      <td>1</td>\n",
       "    </tr>\n",
       "    <tr>\n",
       "      <th>10</th>\n",
       "      <td>0</td>\n",
       "    </tr>\n",
       "    <tr>\n",
       "      <th>11</th>\n",
       "      <td>1</td>\n",
       "    </tr>\n",
       "    <tr>\n",
       "      <th>12</th>\n",
       "      <td>0</td>\n",
       "    </tr>\n",
       "    <tr>\n",
       "      <th>13</th>\n",
       "      <td>0</td>\n",
       "    </tr>\n",
       "    <tr>\n",
       "      <th>14</th>\n",
       "      <td>1</td>\n",
       "    </tr>\n",
       "    <tr>\n",
       "      <th>15</th>\n",
       "      <td>0</td>\n",
       "    </tr>\n",
       "    <tr>\n",
       "      <th>16</th>\n",
       "      <td>0</td>\n",
       "    </tr>\n",
       "    <tr>\n",
       "      <th>17</th>\n",
       "      <td>0</td>\n",
       "    </tr>\n",
       "    <tr>\n",
       "      <th>18</th>\n",
       "      <td>0</td>\n",
       "    </tr>\n",
       "    <tr>\n",
       "      <th>19</th>\n",
       "      <td>1</td>\n",
       "    </tr>\n",
       "    <tr>\n",
       "      <th>20</th>\n",
       "      <td>0</td>\n",
       "    </tr>\n",
       "    <tr>\n",
       "      <th>21</th>\n",
       "      <td>1</td>\n",
       "    </tr>\n",
       "    <tr>\n",
       "      <th>22</th>\n",
       "      <td>0</td>\n",
       "    </tr>\n",
       "    <tr>\n",
       "      <th>23</th>\n",
       "      <td>0</td>\n",
       "    </tr>\n",
       "    <tr>\n",
       "      <th>24</th>\n",
       "      <td>0</td>\n",
       "    </tr>\n",
       "    <tr>\n",
       "      <th>25</th>\n",
       "      <td>1</td>\n",
       "    </tr>\n",
       "    <tr>\n",
       "      <th>26</th>\n",
       "      <td>0</td>\n",
       "    </tr>\n",
       "    <tr>\n",
       "      <th>27</th>\n",
       "      <td>0</td>\n",
       "    </tr>\n",
       "    <tr>\n",
       "      <th>28</th>\n",
       "      <td>1</td>\n",
       "    </tr>\n",
       "    <tr>\n",
       "      <th>29</th>\n",
       "      <td>0</td>\n",
       "    </tr>\n",
       "    <tr>\n",
       "      <th>30</th>\n",
       "      <td>0</td>\n",
       "    </tr>\n",
       "    <tr>\n",
       "      <th>31</th>\n",
       "      <td>0</td>\n",
       "    </tr>\n",
       "    <tr>\n",
       "      <th>32</th>\n",
       "      <td>0</td>\n",
       "    </tr>\n",
       "    <tr>\n",
       "      <th>33</th>\n",
       "      <td>0</td>\n",
       "    </tr>\n",
       "    <tr>\n",
       "      <th>34</th>\n",
       "      <td>0</td>\n",
       "    </tr>\n",
       "    <tr>\n",
       "      <th>35</th>\n",
       "      <td>0</td>\n",
       "    </tr>\n",
       "    <tr>\n",
       "      <th>36</th>\n",
       "      <td>0</td>\n",
       "    </tr>\n",
       "    <tr>\n",
       "      <th>37</th>\n",
       "      <td>0</td>\n",
       "    </tr>\n",
       "    <tr>\n",
       "      <th>38</th>\n",
       "      <td>0</td>\n",
       "    </tr>\n",
       "    <tr>\n",
       "      <th>39</th>\n",
       "      <td>0</td>\n",
       "    </tr>\n",
       "  </tbody>\n",
       "</table>\n",
       "</div>"
      ],
      "text/plain": [
       "    0\n",
       "0   0\n",
       "1   0\n",
       "2   0\n",
       "3   0\n",
       "4   0\n",
       "5   0\n",
       "6   0\n",
       "7   1\n",
       "8   0\n",
       "9   1\n",
       "10  0\n",
       "11  1\n",
       "12  0\n",
       "13  0\n",
       "14  1\n",
       "15  0\n",
       "16  0\n",
       "17  0\n",
       "18  0\n",
       "19  1\n",
       "20  0\n",
       "21  1\n",
       "22  0\n",
       "23  0\n",
       "24  0\n",
       "25  1\n",
       "26  0\n",
       "27  0\n",
       "28  1\n",
       "29  0\n",
       "30  0\n",
       "31  0\n",
       "32  0\n",
       "33  0\n",
       "34  0\n",
       "35  0\n",
       "36  0\n",
       "37  0\n",
       "38  0\n",
       "39  0"
      ]
     },
     "execution_count": 389,
     "metadata": {},
     "output_type": "execute_result"
    }
   ],
   "source": [
    "results = pd.DataFrame(RFC_prediction_final)\n",
    "results.head(40)"
   ]
  },
  {
   "cell_type": "markdown",
   "id": "a6856277",
   "metadata": {},
   "source": [
    "**ВЫВОД**\n",
    "\n",
    "Наша финальная модель получила результат метрики F1 > 0.59.\n",
    "Модель показывает высокий показателем полноты = 0.65 (min = 0, max = 1), поэтому она с высокой вероятностью предскажит уход клиента из банка.\n",
    "Показатель точности не высокий = 0.56 (min = 0, max = 1) — модель верно предсказывает примерно половину ухода клиентов.\n",
    "Для банковских маркетологов данная модель вполне может служить хорошим инструментом для прогнозирования ухода клиента."
   ]
  },
  {
   "cell_type": "markdown",
   "id": "b7dc0e91",
   "metadata": {},
   "source": [
    "## Чек-лист готовности проекта"
   ]
  },
  {
   "cell_type": "markdown",
   "id": "d103bb29",
   "metadata": {},
   "source": [
    "- [x]  Jupyter Notebook открыт\n",
    "- [x]  Весь код выполняется без ошибок\n",
    "- [x]  Ячейки с кодом расположены в порядке исполнения\n",
    "- [x]  Выполнен шаг 1: данные подготовлены\n",
    "- [x]  Выполнен шаг 2: задача исследована\n",
    "    - [x]  Исследован баланс классов\n",
    "    - [x]  Изучены модели без учёта дисбаланса\n",
    "    - [x]  Написаны выводы по результатам исследования\n",
    "- [x]  Выполнен шаг 3: учтён дисбаланс\n",
    "    - [x]  Применено несколько способов борьбы с дисбалансом\n",
    "    - [x]  Написаны выводы по результатам исследования\n",
    "- [x]  Выполнен шаг 4: проведено тестирование\n",
    "- [x]  Удалось достичь *F1*-меры не менее 0.59\n",
    "- [x]  Исследована метрика *AUC-ROC*"
   ]
  }
 ],
 "metadata": {
  "ExecuteTimeLog": [
   {
    "duration": 49,
    "start_time": "2023-06-15T20:02:24.764Z"
   },
   {
    "duration": 7,
    "start_time": "2023-06-15T20:02:40.305Z"
   },
   {
    "duration": 1806,
    "start_time": "2023-06-15T20:02:47.511Z"
   },
   {
    "duration": 221,
    "start_time": "2023-06-15T20:02:50.129Z"
   },
   {
    "duration": 18,
    "start_time": "2023-06-15T20:02:55.395Z"
   },
   {
    "duration": 6,
    "start_time": "2023-06-15T20:02:59.000Z"
   },
   {
    "duration": 5,
    "start_time": "2023-06-15T20:03:56.753Z"
   },
   {
    "duration": 15,
    "start_time": "2023-06-15T20:14:10.504Z"
   },
   {
    "duration": 6,
    "start_time": "2023-06-15T20:19:28.211Z"
   },
   {
    "duration": 5,
    "start_time": "2023-06-15T20:20:28.823Z"
   },
   {
    "duration": 6,
    "start_time": "2023-06-15T20:24:30.929Z"
   },
   {
    "duration": 4,
    "start_time": "2023-06-15T20:24:32.243Z"
   },
   {
    "duration": 14,
    "start_time": "2023-06-15T20:24:36.132Z"
   },
   {
    "duration": 14,
    "start_time": "2023-06-15T20:25:03.650Z"
   },
   {
    "duration": 10,
    "start_time": "2023-06-15T20:25:18.009Z"
   },
   {
    "duration": 6,
    "start_time": "2023-06-15T20:25:20.734Z"
   },
   {
    "duration": 5,
    "start_time": "2023-06-15T20:25:33.700Z"
   },
   {
    "duration": 9,
    "start_time": "2023-06-15T20:25:43.403Z"
   },
   {
    "duration": 13,
    "start_time": "2023-06-15T20:26:17.651Z"
   },
   {
    "duration": 14,
    "start_time": "2023-06-15T20:26:28.491Z"
   },
   {
    "duration": 18,
    "start_time": "2023-06-15T20:28:50.835Z"
   },
   {
    "duration": 5,
    "start_time": "2023-06-15T20:31:02.771Z"
   },
   {
    "duration": 7,
    "start_time": "2023-06-15T20:31:09.295Z"
   },
   {
    "duration": 9,
    "start_time": "2023-06-15T20:31:10.700Z"
   },
   {
    "duration": 6,
    "start_time": "2023-06-15T20:31:11.495Z"
   },
   {
    "duration": 4,
    "start_time": "2023-06-15T20:33:12.394Z"
   },
   {
    "duration": 4,
    "start_time": "2023-06-15T20:33:18.543Z"
   },
   {
    "duration": 10,
    "start_time": "2023-06-15T20:44:31.894Z"
   },
   {
    "duration": 85,
    "start_time": "2023-06-15T20:44:34.386Z"
   },
   {
    "duration": 6,
    "start_time": "2023-06-15T20:45:04.713Z"
   },
   {
    "duration": 57,
    "start_time": "2023-06-15T20:45:06.462Z"
   },
   {
    "duration": 11,
    "start_time": "2023-06-15T20:45:10.246Z"
   },
   {
    "duration": 5,
    "start_time": "2023-06-15T20:45:13.694Z"
   },
   {
    "duration": 4,
    "start_time": "2023-06-15T20:45:16.240Z"
   },
   {
    "duration": 15,
    "start_time": "2023-06-15T20:45:18.894Z"
   },
   {
    "duration": 5,
    "start_time": "2023-06-15T20:45:23.632Z"
   },
   {
    "duration": 6,
    "start_time": "2023-06-15T20:45:25.829Z"
   },
   {
    "duration": 12,
    "start_time": "2023-06-15T20:45:28.690Z"
   },
   {
    "duration": 13,
    "start_time": "2023-06-15T20:45:31.690Z"
   },
   {
    "duration": 18,
    "start_time": "2023-06-15T20:45:36.664Z"
   },
   {
    "duration": 8,
    "start_time": "2023-06-15T20:45:43.124Z"
   },
   {
    "duration": 7,
    "start_time": "2023-06-15T20:45:47.040Z"
   },
   {
    "duration": 7,
    "start_time": "2023-06-15T20:45:48.694Z"
   },
   {
    "duration": 13,
    "start_time": "2023-06-15T20:45:50.653Z"
   },
   {
    "duration": 5,
    "start_time": "2023-06-15T20:46:16.641Z"
   },
   {
    "duration": 20,
    "start_time": "2023-06-15T20:48:28.606Z"
   },
   {
    "duration": 10,
    "start_time": "2023-06-15T20:53:32.565Z"
   },
   {
    "duration": 15,
    "start_time": "2023-06-15T20:53:40.551Z"
   },
   {
    "duration": 11,
    "start_time": "2023-06-15T20:53:56.536Z"
   },
   {
    "duration": 6,
    "start_time": "2023-06-15T20:55:07.539Z"
   },
   {
    "duration": 7,
    "start_time": "2023-06-15T20:55:22.302Z"
   },
   {
    "duration": 3,
    "start_time": "2023-06-15T20:56:51.095Z"
   },
   {
    "duration": 9,
    "start_time": "2023-06-15T20:56:52.332Z"
   },
   {
    "duration": 20,
    "start_time": "2023-06-15T20:56:53.332Z"
   },
   {
    "duration": 20,
    "start_time": "2023-06-15T20:57:03.223Z"
   },
   {
    "duration": 28,
    "start_time": "2023-06-15T20:57:08.789Z"
   },
   {
    "duration": 690,
    "start_time": "2023-06-15T20:59:42.924Z"
   },
   {
    "duration": 6,
    "start_time": "2023-06-15T21:00:02.252Z"
   },
   {
    "duration": 5,
    "start_time": "2023-06-15T21:00:07.394Z"
   },
   {
    "duration": 69,
    "start_time": "2023-06-15T21:01:57.222Z"
   },
   {
    "duration": 7,
    "start_time": "2023-06-15T21:02:03.625Z"
   },
   {
    "duration": 772,
    "start_time": "2023-06-15T21:02:13.635Z"
   },
   {
    "duration": 5,
    "start_time": "2023-06-15T21:02:20.906Z"
   },
   {
    "duration": 7,
    "start_time": "2023-06-15T21:02:22.404Z"
   },
   {
    "duration": 31,
    "start_time": "2023-06-15T21:02:27.202Z"
   },
   {
    "duration": 9,
    "start_time": "2023-06-15T21:02:29.338Z"
   },
   {
    "duration": 33,
    "start_time": "2023-06-15T21:22:14.109Z"
   },
   {
    "duration": 10,
    "start_time": "2023-06-15T21:22:21.214Z"
   },
   {
    "duration": 29,
    "start_time": "2023-06-15T21:23:23.839Z"
   },
   {
    "duration": 32,
    "start_time": "2023-06-15T21:23:32.602Z"
   },
   {
    "duration": 29,
    "start_time": "2023-06-15T21:23:36.612Z"
   },
   {
    "duration": 28,
    "start_time": "2023-06-15T21:23:39.547Z"
   },
   {
    "duration": 31,
    "start_time": "2023-06-15T21:25:21.531Z"
   },
   {
    "duration": 12,
    "start_time": "2023-06-15T21:25:30.842Z"
   },
   {
    "duration": 610,
    "start_time": "2023-06-15T21:26:02.014Z"
   },
   {
    "duration": 551,
    "start_time": "2023-06-15T21:26:18.110Z"
   },
   {
    "duration": 11,
    "start_time": "2023-06-15T21:26:26.456Z"
   },
   {
    "duration": 4,
    "start_time": "2023-06-15T21:26:37.672Z"
   },
   {
    "duration": 58,
    "start_time": "2023-06-15T21:26:40.310Z"
   },
   {
    "duration": 10,
    "start_time": "2023-06-15T21:26:45.738Z"
   },
   {
    "duration": 4,
    "start_time": "2023-06-15T21:26:48.934Z"
   },
   {
    "duration": 4,
    "start_time": "2023-06-15T21:26:52.268Z"
   },
   {
    "duration": 13,
    "start_time": "2023-06-15T21:26:55.138Z"
   },
   {
    "duration": 4,
    "start_time": "2023-06-15T21:26:58.971Z"
   },
   {
    "duration": 5,
    "start_time": "2023-06-15T21:27:01.294Z"
   },
   {
    "duration": 11,
    "start_time": "2023-06-15T21:27:03.544Z"
   },
   {
    "duration": 16,
    "start_time": "2023-06-15T21:27:06.582Z"
   },
   {
    "duration": 17,
    "start_time": "2023-06-15T21:27:11.318Z"
   },
   {
    "duration": 3,
    "start_time": "2023-06-15T21:27:16.330Z"
   },
   {
    "duration": 5,
    "start_time": "2023-06-15T21:27:19.749Z"
   },
   {
    "duration": 8,
    "start_time": "2023-06-15T21:27:21.541Z"
   },
   {
    "duration": 5,
    "start_time": "2023-06-15T21:27:22.768Z"
   },
   {
    "duration": 3,
    "start_time": "2023-06-15T21:27:28.902Z"
   },
   {
    "duration": 4,
    "start_time": "2023-06-15T21:27:37.626Z"
   },
   {
    "duration": 3,
    "start_time": "2023-06-15T21:27:41.571Z"
   },
   {
    "duration": 9,
    "start_time": "2023-06-15T21:27:42.507Z"
   },
   {
    "duration": 20,
    "start_time": "2023-06-15T21:27:45.152Z"
   },
   {
    "duration": 17,
    "start_time": "2023-06-15T21:27:47.445Z"
   },
   {
    "duration": 17,
    "start_time": "2023-06-15T21:27:48.250Z"
   },
   {
    "duration": 630,
    "start_time": "2023-06-15T21:27:56.727Z"
   },
   {
    "duration": 6,
    "start_time": "2023-06-15T21:28:01.455Z"
   },
   {
    "duration": 6,
    "start_time": "2023-06-15T21:28:02.299Z"
   },
   {
    "duration": 640,
    "start_time": "2023-06-15T21:28:06.674Z"
   },
   {
    "duration": 4,
    "start_time": "2023-06-15T21:28:18.338Z"
   },
   {
    "duration": 5,
    "start_time": "2023-06-15T21:28:22.220Z"
   },
   {
    "duration": 40,
    "start_time": "2023-06-15T21:28:27.397Z"
   },
   {
    "duration": 29,
    "start_time": "2023-06-15T21:30:14.419Z"
   },
   {
    "duration": 10,
    "start_time": "2023-06-15T21:30:17.665Z"
   },
   {
    "duration": 610,
    "start_time": "2023-06-15T21:30:22.217Z"
   },
   {
    "duration": 11,
    "start_time": "2023-06-15T21:30:28.306Z"
   },
   {
    "duration": 631,
    "start_time": "2023-06-15T21:32:38.565Z"
   },
   {
    "duration": 687,
    "start_time": "2023-06-15T21:32:53.980Z"
   },
   {
    "duration": 15,
    "start_time": "2023-06-15T21:33:07.669Z"
   },
   {
    "duration": 583,
    "start_time": "2023-06-15T21:33:27.229Z"
   },
   {
    "duration": 14,
    "start_time": "2023-06-15T21:33:34.224Z"
   },
   {
    "duration": 9,
    "start_time": "2023-06-15T21:35:39.952Z"
   },
   {
    "duration": 33,
    "start_time": "2023-06-15T21:35:48.346Z"
   },
   {
    "duration": 49,
    "start_time": "2023-06-15T21:35:59.342Z"
   },
   {
    "duration": 29,
    "start_time": "2023-06-15T21:36:11.618Z"
   },
   {
    "duration": 10,
    "start_time": "2023-06-15T21:36:15.826Z"
   },
   {
    "duration": 4,
    "start_time": "2023-06-15T21:39:16.053Z"
   },
   {
    "duration": 44,
    "start_time": "2023-06-15T21:39:18.238Z"
   },
   {
    "duration": 11,
    "start_time": "2023-06-15T21:39:21.910Z"
   },
   {
    "duration": 4,
    "start_time": "2023-06-15T21:39:25.502Z"
   },
   {
    "duration": 4,
    "start_time": "2023-06-15T21:39:28.042Z"
   },
   {
    "duration": 14,
    "start_time": "2023-06-15T21:39:31.018Z"
   },
   {
    "duration": 5,
    "start_time": "2023-06-15T21:39:34.922Z"
   },
   {
    "duration": 6,
    "start_time": "2023-06-15T21:39:36.390Z"
   },
   {
    "duration": 12,
    "start_time": "2023-06-15T21:39:38.371Z"
   },
   {
    "duration": 12,
    "start_time": "2023-06-15T21:39:41.953Z"
   },
   {
    "duration": 16,
    "start_time": "2023-06-15T21:39:46.398Z"
   },
   {
    "duration": 3,
    "start_time": "2023-06-15T21:39:49.959Z"
   },
   {
    "duration": 4,
    "start_time": "2023-06-15T21:39:52.669Z"
   },
   {
    "duration": 6,
    "start_time": "2023-06-15T21:39:53.268Z"
   },
   {
    "duration": 5,
    "start_time": "2023-06-15T21:39:54.630Z"
   },
   {
    "duration": 3,
    "start_time": "2023-06-15T21:39:58.250Z"
   },
   {
    "duration": 4,
    "start_time": "2023-06-15T21:40:01.052Z"
   },
   {
    "duration": 2,
    "start_time": "2023-06-15T21:40:04.698Z"
   },
   {
    "duration": 7,
    "start_time": "2023-06-15T21:40:05.422Z"
   },
   {
    "duration": 18,
    "start_time": "2023-06-15T21:40:06.450Z"
   },
   {
    "duration": 17,
    "start_time": "2023-06-15T21:40:08.802Z"
   },
   {
    "duration": 17,
    "start_time": "2023-06-15T21:40:13.946Z"
   },
   {
    "duration": 585,
    "start_time": "2023-06-15T21:40:19.034Z"
   },
   {
    "duration": 6,
    "start_time": "2023-06-15T21:40:23.038Z"
   },
   {
    "duration": 5,
    "start_time": "2023-06-15T21:40:24.802Z"
   },
   {
    "duration": 584,
    "start_time": "2023-06-15T21:40:36.830Z"
   },
   {
    "duration": 5,
    "start_time": "2023-06-15T21:40:52.070Z"
   },
   {
    "duration": 4,
    "start_time": "2023-06-15T21:40:53.110Z"
   },
   {
    "duration": 31,
    "start_time": "2023-06-15T21:40:56.958Z"
   },
   {
    "duration": 11,
    "start_time": "2023-06-15T21:40:59.286Z"
   },
   {
    "duration": 577,
    "start_time": "2023-06-15T21:41:44.386Z"
   },
   {
    "duration": 665,
    "start_time": "2023-06-15T21:41:55.623Z"
   },
   {
    "duration": 8,
    "start_time": "2023-06-15T21:42:04.144Z"
   },
   {
    "duration": 9,
    "start_time": "2023-06-15T21:42:40.402Z"
   },
   {
    "duration": 593,
    "start_time": "2023-06-15T21:42:43.540Z"
   },
   {
    "duration": 594,
    "start_time": "2023-06-15T21:43:04.726Z"
   },
   {
    "duration": 11,
    "start_time": "2023-06-15T21:43:09.367Z"
   },
   {
    "duration": 35,
    "start_time": "2023-06-15T21:43:20.726Z"
   },
   {
    "duration": 10,
    "start_time": "2023-06-15T21:44:48.352Z"
   },
   {
    "duration": 8,
    "start_time": "2023-06-15T21:45:25.406Z"
   },
   {
    "duration": 19,
    "start_time": "2023-06-15T21:45:45.118Z"
   },
   {
    "duration": 12,
    "start_time": "2023-06-15T21:46:12.445Z"
   },
   {
    "duration": 105,
    "start_time": "2023-06-15T21:48:31.847Z"
   },
   {
    "duration": 280,
    "start_time": "2023-06-15T21:48:37.202Z"
   },
   {
    "duration": 5,
    "start_time": "2023-06-15T21:52:56.359Z"
   },
   {
    "duration": 6,
    "start_time": "2023-06-15T21:52:57.607Z"
   },
   {
    "duration": 71,
    "start_time": "2023-06-15T21:52:59.076Z"
   },
   {
    "duration": 6,
    "start_time": "2023-06-15T21:53:04.245Z"
   },
   {
    "duration": 12,
    "start_time": "2023-06-15T21:54:01.958Z"
   },
   {
    "duration": 6,
    "start_time": "2023-06-15T21:54:14.658Z"
   },
   {
    "duration": 12,
    "start_time": "2023-06-15T21:54:19.410Z"
   },
   {
    "duration": 2,
    "start_time": "2023-06-15T21:55:27.377Z"
   },
   {
    "duration": 3,
    "start_time": "2023-06-15T21:55:32.117Z"
   },
   {
    "duration": 11,
    "start_time": "2023-06-15T21:57:20.576Z"
   },
   {
    "duration": 71,
    "start_time": "2023-06-15T22:00:09.500Z"
   },
   {
    "duration": 607,
    "start_time": "2023-06-15T22:00:15.506Z"
   },
   {
    "duration": 884,
    "start_time": "2023-06-15T22:00:19.924Z"
   },
   {
    "duration": 38,
    "start_time": "2023-06-15T22:00:56.349Z"
   },
   {
    "duration": 69,
    "start_time": "2023-06-15T22:03:02.631Z"
   },
   {
    "duration": 37,
    "start_time": "2023-06-15T22:03:16.293Z"
   },
   {
    "duration": 809,
    "start_time": "2023-06-15T22:03:38.917Z"
   },
   {
    "duration": 27,
    "start_time": "2023-06-15T22:03:52.013Z"
   },
   {
    "duration": 83,
    "start_time": "2023-06-15T22:04:24.823Z"
   },
   {
    "duration": 46825,
    "start_time": "2023-06-15T22:04:59.447Z"
   },
   {
    "duration": 220,
    "start_time": "2023-06-15T22:06:10.142Z"
   },
   {
    "duration": 228,
    "start_time": "2023-06-15T22:06:37.980Z"
   },
   {
    "duration": 215869,
    "start_time": "2023-06-15T22:06:44.578Z"
   },
   {
    "duration": 197,
    "start_time": "2023-06-15T22:12:43.884Z"
   },
   {
    "duration": 114920,
    "start_time": "2023-06-15T22:12:50.676Z"
   },
   {
    "duration": 234,
    "start_time": "2023-06-15T22:14:45.598Z"
   },
   {
    "duration": 243,
    "start_time": "2023-06-15T22:15:21.248Z"
   },
   {
    "duration": 256,
    "start_time": "2023-06-15T22:15:24.818Z"
   },
   {
    "duration": 262,
    "start_time": "2023-06-15T22:15:27.723Z"
   },
   {
    "duration": 232,
    "start_time": "2023-06-15T22:15:35.777Z"
   },
   {
    "duration": 227,
    "start_time": "2023-06-15T22:15:38.979Z"
   },
   {
    "duration": 239,
    "start_time": "2023-06-15T22:15:42.750Z"
   },
   {
    "duration": 199,
    "start_time": "2023-06-15T22:15:47.821Z"
   },
   {
    "duration": 201,
    "start_time": "2023-06-15T22:15:50.635Z"
   },
   {
    "duration": 201,
    "start_time": "2023-06-15T22:15:53.425Z"
   },
   {
    "duration": 199,
    "start_time": "2023-06-15T22:15:55.925Z"
   },
   {
    "duration": 241,
    "start_time": "2023-06-15T22:16:00.077Z"
   },
   {
    "duration": 253,
    "start_time": "2023-06-15T22:16:03.328Z"
   },
   {
    "duration": 238,
    "start_time": "2023-06-15T22:16:06.024Z"
   },
   {
    "duration": 259,
    "start_time": "2023-06-15T22:16:08.548Z"
   },
   {
    "duration": 236,
    "start_time": "2023-06-15T22:16:11.833Z"
   },
   {
    "duration": 233,
    "start_time": "2023-06-15T22:16:14.628Z"
   },
   {
    "duration": 244,
    "start_time": "2023-06-15T22:16:17.133Z"
   },
   {
    "duration": 224,
    "start_time": "2023-06-15T22:16:25.041Z"
   },
   {
    "duration": 222,
    "start_time": "2023-06-15T22:16:27.857Z"
   },
   {
    "duration": 7,
    "start_time": "2023-06-15T22:16:42.509Z"
   },
   {
    "duration": 10,
    "start_time": "2023-06-15T22:16:46.232Z"
   },
   {
    "duration": 23,
    "start_time": "2023-06-15T22:19:17.862Z"
   },
   {
    "duration": 35,
    "start_time": "2023-06-15T22:19:23.737Z"
   },
   {
    "duration": 35,
    "start_time": "2023-06-15T22:19:52.223Z"
   },
   {
    "duration": 76,
    "start_time": "2023-06-15T22:21:27.118Z"
   },
   {
    "duration": 5,
    "start_time": "2023-06-15T22:21:51.152Z"
   },
   {
    "duration": 5,
    "start_time": "2023-06-15T22:21:53.102Z"
   },
   {
    "duration": 3,
    "start_time": "2023-06-15T22:21:57.918Z"
   },
   {
    "duration": 4,
    "start_time": "2023-06-15T22:22:03.522Z"
   },
   {
    "duration": 3,
    "start_time": "2023-06-15T22:22:19.038Z"
   },
   {
    "duration": 47,
    "start_time": "2023-06-15T22:22:20.881Z"
   },
   {
    "duration": 11,
    "start_time": "2023-06-15T22:22:23.961Z"
   },
   {
    "duration": 4,
    "start_time": "2023-06-15T22:22:27.571Z"
   },
   {
    "duration": 4,
    "start_time": "2023-06-15T22:22:30.218Z"
   },
   {
    "duration": 17,
    "start_time": "2023-06-15T22:22:33.244Z"
   },
   {
    "duration": 4,
    "start_time": "2023-06-15T22:22:37.222Z"
   },
   {
    "duration": 5,
    "start_time": "2023-06-15T22:22:38.637Z"
   },
   {
    "duration": 18,
    "start_time": "2023-06-15T22:22:41.448Z"
   },
   {
    "duration": 9,
    "start_time": "2023-06-15T22:22:44.910Z"
   },
   {
    "duration": 20,
    "start_time": "2023-06-15T22:22:49.909Z"
   },
   {
    "duration": 4,
    "start_time": "2023-06-15T22:22:53.845Z"
   },
   {
    "duration": 5,
    "start_time": "2023-06-15T22:22:56.557Z"
   },
   {
    "duration": 6,
    "start_time": "2023-06-15T22:22:57.917Z"
   },
   {
    "duration": 5,
    "start_time": "2023-06-15T22:22:58.484Z"
   },
   {
    "duration": 4,
    "start_time": "2023-06-15T22:23:03.744Z"
   },
   {
    "duration": 3,
    "start_time": "2023-06-15T22:23:05.321Z"
   },
   {
    "duration": 3,
    "start_time": "2023-06-15T22:23:11.359Z"
   },
   {
    "duration": 8,
    "start_time": "2023-06-15T22:23:12.184Z"
   },
   {
    "duration": 25,
    "start_time": "2023-06-15T22:23:13.214Z"
   },
   {
    "duration": 20,
    "start_time": "2023-06-15T22:23:15.309Z"
   },
   {
    "duration": 17,
    "start_time": "2023-06-15T22:23:17.457Z"
   },
   {
    "duration": 667,
    "start_time": "2023-06-15T22:23:23.241Z"
   },
   {
    "duration": 5,
    "start_time": "2023-06-15T22:23:27.217Z"
   },
   {
    "duration": 5,
    "start_time": "2023-06-15T22:23:28.005Z"
   },
   {
    "duration": 627,
    "start_time": "2023-06-15T22:23:30.681Z"
   },
   {
    "duration": 4,
    "start_time": "2023-06-15T22:23:34.379Z"
   },
   {
    "duration": 5,
    "start_time": "2023-06-15T22:23:36.938Z"
   },
   {
    "duration": 30,
    "start_time": "2023-06-15T22:23:39.336Z"
   },
   {
    "duration": 12,
    "start_time": "2023-06-15T22:23:41.315Z"
   },
   {
    "duration": 590,
    "start_time": "2023-06-15T22:23:47.717Z"
   },
   {
    "duration": 11,
    "start_time": "2023-06-15T22:23:56.237Z"
   },
   {
    "duration": 23,
    "start_time": "2023-06-15T22:23:59.524Z"
   },
   {
    "duration": 86,
    "start_time": "2023-06-15T22:24:02.021Z"
   },
   {
    "duration": 106,
    "start_time": "2023-06-15T22:24:05.980Z"
   },
   {
    "duration": 276,
    "start_time": "2023-06-15T22:24:08.813Z"
   },
   {
    "duration": 5,
    "start_time": "2023-06-15T22:24:13.809Z"
   },
   {
    "duration": 3,
    "start_time": "2023-06-15T22:24:15.588Z"
   },
   {
    "duration": 68,
    "start_time": "2023-06-15T22:24:16.573Z"
   },
   {
    "duration": 5,
    "start_time": "2023-06-15T22:24:19.784Z"
   },
   {
    "duration": 11,
    "start_time": "2023-06-15T22:24:25.213Z"
   },
   {
    "duration": 61,
    "start_time": "2023-06-15T22:24:29.524Z"
   },
   {
    "duration": 601,
    "start_time": "2023-06-15T22:24:34.123Z"
   },
   {
    "duration": 793,
    "start_time": "2023-06-15T22:24:35.625Z"
   },
   {
    "duration": 37,
    "start_time": "2023-06-15T22:24:39.321Z"
   },
   {
    "duration": 731,
    "start_time": "2023-06-15T22:24:42.677Z"
   },
   {
    "duration": 27,
    "start_time": "2023-06-15T22:24:44.821Z"
   },
   {
    "duration": 220,
    "start_time": "2023-06-15T22:24:53.221Z"
   },
   {
    "duration": 233,
    "start_time": "2023-06-15T22:24:57.477Z"
   },
   {
    "duration": 207,
    "start_time": "2023-06-15T22:25:03.055Z"
   },
   {
    "duration": 238,
    "start_time": "2023-06-15T22:25:07.338Z"
   },
   {
    "duration": 6,
    "start_time": "2023-06-15T22:25:15.025Z"
   },
   {
    "duration": 8,
    "start_time": "2023-06-15T22:25:16.879Z"
   },
   {
    "duration": 34,
    "start_time": "2023-06-15T22:25:21.929Z"
   },
   {
    "duration": 5,
    "start_time": "2023-06-15T22:26:33.481Z"
   },
   {
    "duration": 4,
    "start_time": "2023-06-15T22:26:34.478Z"
   },
   {
    "duration": 3,
    "start_time": "2023-06-15T22:26:38.124Z"
   },
   {
    "duration": 3,
    "start_time": "2023-06-15T22:26:40.046Z"
   },
   {
    "duration": 5,
    "start_time": "2023-06-15T22:26:59.161Z"
   },
   {
    "duration": 5,
    "start_time": "2023-06-15T22:27:00.008Z"
   },
   {
    "duration": 4,
    "start_time": "2023-06-15T22:27:03.162Z"
   },
   {
    "duration": 4,
    "start_time": "2023-06-15T22:27:06.204Z"
   },
   {
    "duration": 5,
    "start_time": "2023-06-15T22:27:18.808Z"
   },
   {
    "duration": 5,
    "start_time": "2023-06-15T22:27:19.516Z"
   },
   {
    "duration": 5,
    "start_time": "2023-06-15T22:27:39.316Z"
   },
   {
    "duration": 5,
    "start_time": "2023-06-15T22:27:40.345Z"
   },
   {
    "duration": 4,
    "start_time": "2023-06-15T22:27:43.308Z"
   },
   {
    "duration": 3,
    "start_time": "2023-06-15T22:27:46.181Z"
   },
   {
    "duration": 5,
    "start_time": "2023-06-15T22:28:01.312Z"
   },
   {
    "duration": 3,
    "start_time": "2023-06-15T22:28:03.908Z"
   },
   {
    "duration": 3,
    "start_time": "2023-06-15T22:28:08.116Z"
   },
   {
    "duration": 5,
    "start_time": "2023-06-15T22:28:20.715Z"
   },
   {
    "duration": 6,
    "start_time": "2023-06-15T22:28:22.522Z"
   },
   {
    "duration": 3,
    "start_time": "2023-06-15T22:28:25.376Z"
   },
   {
    "duration": 3,
    "start_time": "2023-06-15T22:28:26.820Z"
   },
   {
    "duration": 2,
    "start_time": "2023-06-15T22:28:35.016Z"
   },
   {
    "duration": 8,
    "start_time": "2023-06-15T22:28:35.812Z"
   },
   {
    "duration": 19,
    "start_time": "2023-06-15T22:28:37.419Z"
   },
   {
    "duration": 17,
    "start_time": "2023-06-15T22:28:38.212Z"
   },
   {
    "duration": 17,
    "start_time": "2023-06-15T22:28:39.023Z"
   },
   {
    "duration": 559,
    "start_time": "2023-06-15T22:28:46.351Z"
   },
   {
    "duration": 6,
    "start_time": "2023-06-15T22:28:50.153Z"
   },
   {
    "duration": 6,
    "start_time": "2023-06-15T22:28:50.979Z"
   },
   {
    "duration": 578,
    "start_time": "2023-06-15T22:28:54.136Z"
   },
   {
    "duration": 5,
    "start_time": "2023-06-15T22:28:57.753Z"
   },
   {
    "duration": 5,
    "start_time": "2023-06-15T22:28:58.780Z"
   },
   {
    "duration": 27,
    "start_time": "2023-06-15T22:29:06.100Z"
   },
   {
    "duration": 11,
    "start_time": "2023-06-15T22:29:10.875Z"
   },
   {
    "duration": 524,
    "start_time": "2023-06-15T22:29:14.513Z"
   },
   {
    "duration": 10,
    "start_time": "2023-06-15T22:29:17.012Z"
   },
   {
    "duration": 59,
    "start_time": "2023-06-15T22:29:20.349Z"
   },
   {
    "duration": 10,
    "start_time": "2023-06-15T22:29:23.224Z"
   },
   {
    "duration": 105,
    "start_time": "2023-06-15T22:29:25.078Z"
   },
   {
    "duration": 396,
    "start_time": "2023-06-15T22:29:29.581Z"
   },
   {
    "duration": 7,
    "start_time": "2023-06-15T22:29:34.934Z"
   },
   {
    "duration": 4,
    "start_time": "2023-06-15T22:29:36.131Z"
   },
   {
    "duration": 63,
    "start_time": "2023-06-15T22:29:36.957Z"
   },
   {
    "duration": 4,
    "start_time": "2023-06-15T22:29:39.434Z"
   },
   {
    "duration": 12,
    "start_time": "2023-06-15T22:29:43.859Z"
   },
   {
    "duration": 76,
    "start_time": "2023-06-15T22:29:47.640Z"
   },
   {
    "duration": 567,
    "start_time": "2023-06-15T22:29:50.739Z"
   },
   {
    "duration": 703,
    "start_time": "2023-06-15T22:29:52.331Z"
   },
   {
    "duration": 47,
    "start_time": "2023-06-15T22:29:55.119Z"
   },
   {
    "duration": 644,
    "start_time": "2023-06-15T22:29:57.552Z"
   },
   {
    "duration": 73,
    "start_time": "2023-06-15T22:29:59.037Z"
   },
   {
    "duration": 195,
    "start_time": "2023-06-15T22:30:05.573Z"
   },
   {
    "duration": 196,
    "start_time": "2023-06-15T22:30:08.815Z"
   },
   {
    "duration": 196,
    "start_time": "2023-06-15T22:30:11.660Z"
   },
   {
    "duration": 194,
    "start_time": "2023-06-15T22:30:14.658Z"
   },
   {
    "duration": 191,
    "start_time": "2023-06-15T22:30:17.224Z"
   },
   {
    "duration": 186,
    "start_time": "2023-06-15T22:30:19.727Z"
   },
   {
    "duration": 163,
    "start_time": "2023-06-15T22:30:23.620Z"
   },
   {
    "duration": 211,
    "start_time": "2023-06-15T22:30:27.057Z"
   },
   {
    "duration": 7,
    "start_time": "2023-06-15T22:30:38.047Z"
   },
   {
    "duration": 9,
    "start_time": "2023-06-15T22:30:39.514Z"
   },
   {
    "duration": 23,
    "start_time": "2023-06-15T22:30:44.555Z"
   },
   {
    "duration": 24,
    "start_time": "2023-06-15T22:31:03.320Z"
   },
   {
    "duration": 22,
    "start_time": "2023-06-15T22:31:06.520Z"
   },
   {
    "duration": 23,
    "start_time": "2023-06-15T22:31:09.371Z"
   },
   {
    "duration": 242,
    "start_time": "2023-06-15T22:31:17.839Z"
   },
   {
    "duration": 6,
    "start_time": "2023-06-15T22:31:20.520Z"
   },
   {
    "duration": 22,
    "start_time": "2023-06-15T22:31:51.172Z"
   },
   {
    "duration": 7,
    "start_time": "2023-06-15T22:34:45.314Z"
   },
   {
    "duration": 12,
    "start_time": "2023-06-15T22:34:57.244Z"
   },
   {
    "duration": 7,
    "start_time": "2023-06-15T22:35:17.122Z"
   },
   {
    "duration": 4,
    "start_time": "2023-06-15T22:35:30.571Z"
   },
   {
    "duration": 4,
    "start_time": "2023-06-15T22:35:32.292Z"
   },
   {
    "duration": 3,
    "start_time": "2023-06-15T22:35:38.689Z"
   },
   {
    "duration": 8,
    "start_time": "2023-06-15T22:35:39.924Z"
   },
   {
    "duration": 19,
    "start_time": "2023-06-15T22:35:40.715Z"
   },
   {
    "duration": 18,
    "start_time": "2023-06-15T22:35:41.604Z"
   },
   {
    "duration": 18,
    "start_time": "2023-06-15T22:35:42.618Z"
   },
   {
    "duration": 512,
    "start_time": "2023-06-15T22:35:48.160Z"
   },
   {
    "duration": 6,
    "start_time": "2023-06-15T22:35:53.032Z"
   },
   {
    "duration": 5,
    "start_time": "2023-06-15T22:35:53.650Z"
   },
   {
    "duration": 600,
    "start_time": "2023-06-15T22:35:57.712Z"
   },
   {
    "duration": 4,
    "start_time": "2023-06-15T22:36:05.148Z"
   },
   {
    "duration": 4,
    "start_time": "2023-06-15T22:36:06.554Z"
   },
   {
    "duration": 30,
    "start_time": "2023-06-15T22:37:43.125Z"
   },
   {
    "duration": 11,
    "start_time": "2023-06-15T22:38:09.114Z"
   },
   {
    "duration": 536,
    "start_time": "2023-06-15T22:38:14.472Z"
   },
   {
    "duration": 10,
    "start_time": "2023-06-15T22:38:42.774Z"
   },
   {
    "duration": 23,
    "start_time": "2023-06-15T22:38:45.923Z"
   },
   {
    "duration": 14,
    "start_time": "2023-06-15T22:39:07.118Z"
   },
   {
    "duration": 102,
    "start_time": "2023-06-15T22:39:10.053Z"
   },
   {
    "duration": 274,
    "start_time": "2023-06-15T22:39:13.349Z"
   },
   {
    "duration": 6,
    "start_time": "2023-06-15T22:39:17.795Z"
   },
   {
    "duration": 4,
    "start_time": "2023-06-15T22:39:20.368Z"
   },
   {
    "duration": 90,
    "start_time": "2023-06-15T22:39:22.552Z"
   },
   {
    "duration": 4,
    "start_time": "2023-06-15T22:39:25.212Z"
   },
   {
    "duration": 11,
    "start_time": "2023-06-15T22:39:29.162Z"
   },
   {
    "duration": 91,
    "start_time": "2023-06-15T22:39:33.927Z"
   },
   {
    "duration": 529,
    "start_time": "2023-06-15T22:39:37.307Z"
   },
   {
    "duration": 701,
    "start_time": "2023-06-15T22:39:39.112Z"
   },
   {
    "duration": 46,
    "start_time": "2023-06-15T22:39:42.634Z"
   },
   {
    "duration": 633,
    "start_time": "2023-06-15T22:39:43.596Z"
   },
   {
    "duration": 101,
    "start_time": "2023-06-15T22:39:46.013Z"
   },
   {
    "duration": 199,
    "start_time": "2023-06-15T22:40:08.126Z"
   },
   {
    "duration": 205,
    "start_time": "2023-06-15T22:40:12.312Z"
   },
   {
    "duration": 214,
    "start_time": "2023-06-15T22:40:15.876Z"
   },
   {
    "duration": 210,
    "start_time": "2023-06-15T22:40:19.841Z"
   },
   {
    "duration": 215,
    "start_time": "2023-06-15T22:40:22.515Z"
   },
   {
    "duration": 203,
    "start_time": "2023-06-15T22:40:24.821Z"
   },
   {
    "duration": 223,
    "start_time": "2023-06-15T22:40:28.040Z"
   },
   {
    "duration": 219,
    "start_time": "2023-06-15T22:40:30.755Z"
   },
   {
    "duration": 7,
    "start_time": "2023-06-15T22:40:43.874Z"
   },
   {
    "duration": 8,
    "start_time": "2023-06-15T22:40:45.122Z"
   },
   {
    "duration": 24,
    "start_time": "2023-06-15T22:40:49.814Z"
   },
   {
    "duration": 264,
    "start_time": "2023-06-15T22:40:52.012Z"
   },
   {
    "duration": 7,
    "start_time": "2023-06-15T22:40:55.899Z"
   }
  ],
  "kernelspec": {
   "display_name": "Python 3 (ipykernel)",
   "language": "python",
   "name": "python3"
  },
  "language_info": {
   "codemirror_mode": {
    "name": "ipython",
    "version": 3
   },
   "file_extension": ".py",
   "mimetype": "text/x-python",
   "name": "python",
   "nbconvert_exporter": "python",
   "pygments_lexer": "ipython3",
   "version": "3.9.13"
  },
  "toc": {
   "base_numbering": 1,
   "nav_menu": {},
   "number_sections": true,
   "sideBar": true,
   "skip_h1_title": false,
   "title_cell": "Table of Contents",
   "title_sidebar": "Contents",
   "toc_cell": false,
   "toc_position": {},
   "toc_section_display": true,
   "toc_window_display": true
  }
 },
 "nbformat": 4,
 "nbformat_minor": 5
}
